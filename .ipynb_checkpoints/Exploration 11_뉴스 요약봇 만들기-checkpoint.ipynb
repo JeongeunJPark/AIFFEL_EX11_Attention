{
 "cells": [
  {
   "cell_type": "markdown",
   "metadata": {},
   "source": [
    "## 이 노드의 루브릭                \n",
    "\n",
    "1. Abstractive 모델 구성을 위한 텍스트 전처리 단계가 체계적으로 진행되었다.     \n",
    "(분석단계, 정제단계, 정규화와 불용어 제거, 데이터셋 분리, 인코딩 과정이 빠짐없이 체계적으로 진행되었다.)             \n",
    "\n",
    "\n",
    "2. 모델 학습이 안정적으로 수렴되었음을 그래프를 통해 확인하였으며, 실제 요약문과 유사한 요약 문장을 얻을 수 있었다.       \n",
    "(텍스트 요약 모델이 성공적으로 학습되었음을 확인하였다.)             \n",
    "\n",
    "\n",
    "3. 두 요약 결과를 문법 완성도 측면과 핵심단어 포함 측면으로 나누어 비교분석 결과를 제시하였다.        \n",
    "(Extractive 요약을 시도해보고 Abstractive 요약 결과와 함께 비교해 보았다.)     "
   ]
  },
  {
   "cell_type": "markdown",
   "metadata": {},
   "source": [
    "## 목차              \n",
    "\n",
    "1. 데이터 수집하기       \n",
    "2. (추상적 요약을 위한)데이터 전처리하기      \n",
    "    - 분석단계          \n",
    "    - 정제단계        \n",
    "    - 정규화와 불용어 제거       \n",
    "    - 데이터셋 분리     \n",
    "    - 인코딩 과정\n",
    "3. (추상적 요약을 위한)어텐션 메커니즘 사용하기    \n",
    "4. (추상적 요약) 실제 결과와 요약문 비교하기      \n",
    "5. Summa를 이용하여 추출적 요약 해보기   \n",
    "6. 추상적 요약과 추출적 요약의 결과 비교 분석하기        \n",
    "    - 문법적인 완성도 측면에서    \n",
    "    - 핵심 단어 포함 측면에서"
   ]
  },
  {
   "cell_type": "markdown",
   "metadata": {},
   "source": [
    "--- \n",
    "\n",
    "## 1. 데이터 수집하기"
   ]
  },
  {
   "cell_type": "code",
   "execution_count": 2,
   "metadata": {},
   "outputs": [
    {
     "name": "stdout",
     "output_type": "stream",
     "text": [
      "뉴스 기사 데이터를 다운로드하였습니다.\n"
     ]
    }
   ],
   "source": [
    "import pandas as pd\n",
    "import urllib.request\n",
    "urllib.request.urlretrieve(\"https://raw.githubusercontent.com/sunnysai12345/News_Summary/master/news_summary_more.csv\", filename=\"news_summary_more.csv\")\n",
    "\n",
    "data = pd.read_csv('news_summary_more.csv', encoding='iso-8859-1')\n",
    "print('뉴스 기사 데이터를 다운로드하였습니다.')"
   ]
  },
  {
   "cell_type": "markdown",
   "metadata": {},
   "source": [
    "---\n",
    "## 2. (추상적 요약을 위한) 데이터 전처리하기          \n",
    "\n",
    "#### 1. 데이터 전처리를 위한 라이브러리 준비 "
   ]
  },
  {
   "cell_type": "code",
   "execution_count": 4,
   "metadata": {},
   "outputs": [
    {
     "name": "stderr",
     "output_type": "stream",
     "text": [
      "[nltk_data] Downloading package stopwords to /home/ssac23/nltk_data...\n",
      "[nltk_data]   Package stopwords is already up-to-date!\n"
     ]
    },
    {
     "name": "stdout",
     "output_type": "stream",
     "text": [
      "모든 라이브러리 임포트 완료!\n"
     ]
    }
   ],
   "source": [
    "#NLTK라이브러리 임포트\n",
    "import nltk\n",
    "nltk.download('stopwords')\n",
    "\n",
    "import numpy as np\n",
    "\n",
    "import os\n",
    "import re\n",
    "\n",
    "import matplotlib.pyplot as plt\n",
    "from nltk.corpus import stopwords\n",
    "from bs4 import BeautifulSoup\n",
    "\n",
    "from tensorflow.keras.preprocessing.text import Tokenizer\n",
    "from tensorflow.keras.preprocessing.sequence import pad_sequences\n",
    "\n",
    "print('모든 라이브러리 임포트 완료!')"
   ]
  },
  {
   "cell_type": "markdown",
   "metadata": {},
   "source": [
    "#### 2. 데이터 분석 단계         \n",
    "\n",
    "- 데이터 샘플 수를 확인하고, data가 무엇으로 구성되어 있는지 확인 후 사용할 컬럼만 남긴다."
   ]
  },
  {
   "cell_type": "code",
   "execution_count": 5,
   "metadata": {},
   "outputs": [
    {
     "name": "stdout",
     "output_type": "stream",
     "text": [
      "데이터 샘플 수 :  98401\n"
     ]
    }
   ],
   "source": [
    "print('데이터 샘플 수 : ', len(data))"
   ]
  },
  {
   "cell_type": "code",
   "execution_count": 6,
   "metadata": {},
   "outputs": [
    {
     "data": {
      "text/html": [
       "<div>\n",
       "<style scoped>\n",
       "    .dataframe tbody tr th:only-of-type {\n",
       "        vertical-align: middle;\n",
       "    }\n",
       "\n",
       "    .dataframe tbody tr th {\n",
       "        vertical-align: top;\n",
       "    }\n",
       "\n",
       "    .dataframe thead th {\n",
       "        text-align: right;\n",
       "    }\n",
       "</style>\n",
       "<table border=\"1\" class=\"dataframe\">\n",
       "  <thead>\n",
       "    <tr style=\"text-align: right;\">\n",
       "      <th></th>\n",
       "      <th>headlines</th>\n",
       "      <th>text</th>\n",
       "    </tr>\n",
       "  </thead>\n",
       "  <tbody>\n",
       "    <tr>\n",
       "      <th>0</th>\n",
       "      <td>upGrad learner switches to career in ML &amp; Al w...</td>\n",
       "      <td>Saurav Kant, an alumnus of upGrad and IIIT-B's...</td>\n",
       "    </tr>\n",
       "    <tr>\n",
       "      <th>1</th>\n",
       "      <td>Delhi techie wins free food from Swiggy for on...</td>\n",
       "      <td>Kunal Shah's credit card bill payment platform...</td>\n",
       "    </tr>\n",
       "    <tr>\n",
       "      <th>2</th>\n",
       "      <td>New Zealand end Rohit Sharma-led India's 12-ma...</td>\n",
       "      <td>New Zealand defeated India by 8 wickets in the...</td>\n",
       "    </tr>\n",
       "    <tr>\n",
       "      <th>3</th>\n",
       "      <td>Aegon life iTerm insurance plan helps customer...</td>\n",
       "      <td>With Aegon Life iTerm Insurance plan, customer...</td>\n",
       "    </tr>\n",
       "    <tr>\n",
       "      <th>4</th>\n",
       "      <td>Have known Hirani for yrs, what if MeToo claim...</td>\n",
       "      <td>Speaking about the sexual harassment allegatio...</td>\n",
       "    </tr>\n",
       "  </tbody>\n",
       "</table>\n",
       "</div>"
      ],
      "text/plain": [
       "                                           headlines  \\\n",
       "0  upGrad learner switches to career in ML & Al w...   \n",
       "1  Delhi techie wins free food from Swiggy for on...   \n",
       "2  New Zealand end Rohit Sharma-led India's 12-ma...   \n",
       "3  Aegon life iTerm insurance plan helps customer...   \n",
       "4  Have known Hirani for yrs, what if MeToo claim...   \n",
       "\n",
       "                                                text  \n",
       "0  Saurav Kant, an alumnus of upGrad and IIIT-B's...  \n",
       "1  Kunal Shah's credit card bill payment platform...  \n",
       "2  New Zealand defeated India by 8 wickets in the...  \n",
       "3  With Aegon Life iTerm Insurance plan, customer...  \n",
       "4  Speaking about the sexual harassment allegatio...  "
      ]
     },
     "execution_count": 6,
     "metadata": {},
     "output_type": "execute_result"
    }
   ],
   "source": [
    "data.head(5)"
   ]
  },
  {
   "cell_type": "markdown",
   "metadata": {},
   "source": [
    "> - 데이터의 총 샘플 수는 98,401 개이다.       \n",
    "> - 요약에 사용할 text(본문)와 headlines(정답 데이터)만 존재하므로 별도의 데이터 삭제는 필요하지 않다.     "
   ]
  },
  {
   "cell_type": "code",
   "execution_count": 7,
   "metadata": {},
   "outputs": [
    {
     "data": {
      "text/html": [
       "<div>\n",
       "<style scoped>\n",
       "    .dataframe tbody tr th:only-of-type {\n",
       "        vertical-align: middle;\n",
       "    }\n",
       "\n",
       "    .dataframe tbody tr th {\n",
       "        vertical-align: top;\n",
       "    }\n",
       "\n",
       "    .dataframe thead th {\n",
       "        text-align: right;\n",
       "    }\n",
       "</style>\n",
       "<table border=\"1\" class=\"dataframe\">\n",
       "  <thead>\n",
       "    <tr style=\"text-align: right;\">\n",
       "      <th></th>\n",
       "      <th>text</th>\n",
       "      <th>headlines</th>\n",
       "    </tr>\n",
       "  </thead>\n",
       "  <tbody>\n",
       "    <tr>\n",
       "      <th>0</th>\n",
       "      <td>Saurav Kant, an alumnus of upGrad and IIIT-B's...</td>\n",
       "      <td>upGrad learner switches to career in ML &amp; Al w...</td>\n",
       "    </tr>\n",
       "    <tr>\n",
       "      <th>1</th>\n",
       "      <td>Kunal Shah's credit card bill payment platform...</td>\n",
       "      <td>Delhi techie wins free food from Swiggy for on...</td>\n",
       "    </tr>\n",
       "  </tbody>\n",
       "</table>\n",
       "</div>"
      ],
      "text/plain": [
       "                                                text  \\\n",
       "0  Saurav Kant, an alumnus of upGrad and IIIT-B's...   \n",
       "1  Kunal Shah's credit card bill payment platform...   \n",
       "\n",
       "                                           headlines  \n",
       "0  upGrad learner switches to career in ML & Al w...  \n",
       "1  Delhi techie wins free food from Swiggy for on...  "
      ]
     },
     "execution_count": 7,
     "metadata": {},
     "output_type": "execute_result"
    }
   ],
   "source": [
    "#그래도 헷갈리니까 양 쪽 순서변경\n",
    "data = data[['text', 'headlines']]\n",
    "data.head(2)"
   ]
  },
  {
   "cell_type": "markdown",
   "metadata": {},
   "source": [
    "### 3. 데이터 정제 단계        \n",
    "\n",
    "- 중복된 샘플과, NULL 값이 있는 샘플은 모델 훈련에 악영향을 미칠 수 있으므로 이를 정리한다.    "
   ]
  },
  {
   "cell_type": "code",
   "execution_count": 10,
   "metadata": {},
   "outputs": [
    {
     "name": "stdout",
     "output_type": "stream",
     "text": [
      "총 데이터 수 :  98401\n",
      "유니크한 텍스트 샘플 수 :  98360\n",
      "유니크한 헤드라인 샘플 수 :  98280\n"
     ]
    }
   ],
   "source": [
    "#중복 샘플 유무 확인(총 10만 개의 데이터 중, 유니크한 샘플의 개수를 센다.)\n",
    "print('총 데이터 수 : ', len(data))\n",
    "print('유니크한 텍스트 샘플 수 : ', data['text'].nunique())\n",
    "print('유니크한 헤드라인 샘플 수 : ', data['headlines'].nunique())"
   ]
  },
  {
   "cell_type": "markdown",
   "metadata": {},
   "source": [
    "> - 총 데이터 98,401 개 중 중복되지 않은 원문이 98,306개, 중복되지 않은 헤드라인이 98,280 개이다.     \n",
    "> - 노드 실습에서 고려했듯이, 내용에 따라 헤드라인은 중복될 수 있으나 __원문은 중복될 수 없으므로 text 컬럼을 기준으로__ 데이터를 정리한다."
   ]
  },
  {
   "cell_type": "code",
   "execution_count": 11,
   "metadata": {},
   "outputs": [
    {
     "name": "stdout",
     "output_type": "stream",
     "text": [
      "중복 샘플 드롭 후의 데이터 수 :  98360\n"
     ]
    }
   ],
   "source": [
    "#'텍스트'를 기준으로 중복값 삭제\n",
    "data.drop_duplicates(subset=['text'], inplace=True)\n",
    "\n",
    "print('중복 샘플 드롭 후의 데이터 수 : ', len(data))"
   ]
  },
  {
   "cell_type": "code",
   "execution_count": 12,
   "metadata": {},
   "outputs": [
    {
     "data": {
      "text/plain": [
       "text         0\n",
       "headlines    0\n",
       "dtype: int64"
      ]
     },
     "execution_count": 12,
     "metadata": {},
     "output_type": "execute_result"
    }
   ],
   "source": [
    "#Null값 유무를 확인 후 Null값이 존재하는 샘플을 제거한다.\n",
    "data.isnull().sum()"
   ]
  },
  {
   "cell_type": "markdown",
   "metadata": {},
   "source": [
    "### 4. 텍스트 정규화와 불용어의 제거                   \n",
    "\n",
    "- 효율적인 모델 학습을 위해, 다양한 문법적 표현들을 하나의 표현으로 통일하는 텍스트 정규화를 수행한다."
   ]
  },
  {
   "cell_type": "code",
   "execution_count": 13,
   "metadata": {},
   "outputs": [
    {
     "name": "stdout",
     "output_type": "stream",
     "text": [
      "정규화 사전의 수:  120\n"
     ]
    }
   ],
   "source": [
    "#정규화 사전 더미 납시오\n",
    "contractions = {\"ain't\": \"is not\", \"aren't\": \"are not\",\"can't\": \"cannot\", \"'cause\": \"because\", \"could've\": \"could have\", \"couldn't\": \"could not\",\n",
    "                           \"didn't\": \"did not\",  \"doesn't\": \"does not\", \"don't\": \"do not\", \"hadn't\": \"had not\", \"hasn't\": \"has not\", \"haven't\": \"have not\",\n",
    "                           \"he'd\": \"he would\",\"he'll\": \"he will\", \"he's\": \"he is\", \"how'd\": \"how did\", \"how'd'y\": \"how do you\", \"how'll\": \"how will\", \"how's\": \"how is\",\n",
    "                           \"I'd\": \"I would\", \"I'd've\": \"I would have\", \"I'll\": \"I will\", \"I'll've\": \"I will have\",\"I'm\": \"I am\", \"I've\": \"I have\", \"i'd\": \"i would\",\n",
    "                           \"i'd've\": \"i would have\", \"i'll\": \"i will\",  \"i'll've\": \"i will have\",\"i'm\": \"i am\", \"i've\": \"i have\", \"isn't\": \"is not\", \"it'd\": \"it would\",\n",
    "                           \"it'd've\": \"it would have\", \"it'll\": \"it will\", \"it'll've\": \"it will have\",\"it's\": \"it is\", \"let's\": \"let us\", \"ma'am\": \"madam\",\n",
    "                           \"mayn't\": \"may not\", \"might've\": \"might have\",\"mightn't\": \"might not\",\"mightn't've\": \"might not have\", \"must've\": \"must have\",\n",
    "                           \"mustn't\": \"must not\", \"mustn't've\": \"must not have\", \"needn't\": \"need not\", \"needn't've\": \"need not have\",\"o'clock\": \"of the clock\",\n",
    "                           \"oughtn't\": \"ought not\", \"oughtn't've\": \"ought not have\", \"shan't\": \"shall not\", \"sha'n't\": \"shall not\", \"shan't've\": \"shall not have\",\n",
    "                           \"she'd\": \"she would\", \"she'd've\": \"she would have\", \"she'll\": \"she will\", \"she'll've\": \"she will have\", \"she's\": \"she is\",\n",
    "                           \"should've\": \"should have\", \"shouldn't\": \"should not\", \"shouldn't've\": \"should not have\", \"so've\": \"so have\",\"so's\": \"so as\",\n",
    "                           \"this's\": \"this is\",\"that'd\": \"that would\", \"that'd've\": \"that would have\", \"that's\": \"that is\", \"there'd\": \"there would\",\n",
    "                           \"there'd've\": \"there would have\", \"there's\": \"there is\", \"here's\": \"here is\",\"they'd\": \"they would\", \"they'd've\": \"they would have\",\n",
    "                           \"they'll\": \"they will\", \"they'll've\": \"they will have\", \"they're\": \"they are\", \"they've\": \"they have\", \"to've\": \"to have\",\n",
    "                           \"wasn't\": \"was not\", \"we'd\": \"we would\", \"we'd've\": \"we would have\", \"we'll\": \"we will\", \"we'll've\": \"we will have\", \"we're\": \"we are\",\n",
    "                           \"we've\": \"we have\", \"weren't\": \"were not\", \"what'll\": \"what will\", \"what'll've\": \"what will have\", \"what're\": \"what are\",\n",
    "                           \"what's\": \"what is\", \"what've\": \"what have\", \"when's\": \"when is\", \"when've\": \"when have\", \"where'd\": \"where did\", \"where's\": \"where is\",\n",
    "                           \"where've\": \"where have\", \"who'll\": \"who will\", \"who'll've\": \"who will have\", \"who's\": \"who is\", \"who've\": \"who have\",\n",
    "                           \"why's\": \"why is\", \"why've\": \"why have\", \"will've\": \"will have\", \"won't\": \"will not\", \"won't've\": \"will not have\",\n",
    "                           \"would've\": \"would have\", \"wouldn't\": \"would not\", \"wouldn't've\": \"would not have\", \"y'all\": \"you all\",\n",
    "                           \"y'all'd\": \"you all would\",\"y'all'd've\": \"you all would have\",\"y'all're\": \"you all are\",\"y'all've\": \"you all have\",\n",
    "                           \"you'd\": \"you would\", \"you'd've\": \"you would have\", \"you'll\": \"you will\", \"you'll've\": \"you will have\",\n",
    "                           \"you're\": \"you are\", \"you've\": \"you have\"}\n",
    "\n",
    "print(\"정규화 사전의 수: \",len(contractions))"
   ]
  },
  {
   "cell_type": "code",
   "execution_count": 14,
   "metadata": {},
   "outputs": [
    {
     "name": "stdout",
     "output_type": "stream",
     "text": [
      "사전에 정의된 불용어의 개수 :  179\n",
      "['i', 'me', 'my', 'myself', 'we', 'our', 'ours', 'ourselves', 'you', \"you're\", \"you've\", \"you'll\", \"you'd\", 'your', 'yours', 'yourself', 'yourselves', 'he', 'him', 'his', 'himself', 'she', \"she's\", 'her', 'hers', 'herself', 'it', \"it's\", 'its', 'itself', 'they', 'them', 'their', 'theirs', 'themselves', 'what', 'which', 'who', 'whom', 'this', 'that', \"that'll\", 'these', 'those', 'am', 'is', 'are', 'was', 'were', 'be', 'been', 'being', 'have', 'has', 'had', 'having', 'do', 'does', 'did', 'doing', 'a', 'an', 'the', 'and', 'but', 'if', 'or', 'because', 'as', 'until', 'while', 'of', 'at', 'by', 'for', 'with', 'about', 'against', 'between', 'into', 'through', 'during', 'before', 'after', 'above', 'below', 'to', 'from', 'up', 'down', 'in', 'out', 'on', 'off', 'over', 'under', 'again', 'further', 'then', 'once', 'here', 'there', 'when', 'where', 'why', 'how', 'all', 'any', 'both', 'each', 'few', 'more', 'most', 'other', 'some', 'such', 'no', 'nor', 'not', 'only', 'own', 'same', 'so', 'than', 'too', 'very', 's', 't', 'can', 'will', 'just', 'don', \"don't\", 'should', \"should've\", 'now', 'd', 'll', 'm', 'o', 're', 've', 'y', 'ain', 'aren', \"aren't\", 'couldn', \"couldn't\", 'didn', \"didn't\", 'doesn', \"doesn't\", 'hadn', \"hadn't\", 'hasn', \"hasn't\", 'haven', \"haven't\", 'isn', \"isn't\", 'ma', 'mightn', \"mightn't\", 'mustn', \"mustn't\", 'needn', \"needn't\", 'shan', \"shan't\", 'shouldn', \"shouldn't\", 'wasn', \"wasn't\", 'weren', \"weren't\", 'won', \"won't\", 'wouldn', \"wouldn't\"]\n"
     ]
    }
   ],
   "source": [
    "#또, 불용어의 정리    \n",
    "#다음 단어의 예측에 대체적으로 영향력이 덜한 'I', 'me', 조사 등을 제거하여 정확도를 향상시킴\n",
    "print('사전에 정의된 불용어의 개수 : ', len(stopwords.words('english')))\n",
    "print(stopwords.words('english'))"
   ]
  },
  {
   "cell_type": "markdown",
   "metadata": {},
   "source": [
    "> - data['text'](원문)에 대해 텍스트 정규화를 수행함으로써, 모델 훈련 시 효율이 증가하도록 한다."
   ]
  },
  {
   "cell_type": "code",
   "execution_count": 15,
   "metadata": {},
   "outputs": [
    {
     "name": "stdout",
     "output_type": "stream",
     "text": [
      "함수 세팅 완료\n"
     ]
    }
   ],
   "source": [
    "#텍스트 정규화와 불용어를 제거하는\n",
    "#데이터 전처리 함수\n",
    "def preprocessing(sentence, remove_stopwords=True):   \n",
    "    \n",
    "    # 텍스트 소문자화\n",
    "    sentence = sentence.lower()\n",
    "    \n",
    "    # <br />, <a href = ...> 등의 html 태그 제거\n",
    "    sentence = BeautifulSoup(sentence, \"lxml\").text \n",
    "    \n",
    "    # 괄호로 닫힌 문자열 (...) 제거 Ex) my husband (and myself!) for => my husband for\n",
    "    sentence = re.sub(r'\\([^)]*\\)', '', sentence) \n",
    "    \n",
    "    # 쌍따옴표 \" 제거\n",
    "    sentence = re.sub('\"','', sentence) \n",
    "    sentence = ' '.join([contractions[t] if t in contractions else t for t in sentence.split(\" \")])\n",
    "    \n",
    "    # 소유격 제거. Ex) roland's -> roland\n",
    "    sentence = re.sub(r\"'s\\b\",\"\",sentence) \n",
    "    \n",
    "    # 영어 외 문자(숫자, 특수문자 등) 공백으로 변환\n",
    "    sentence = re.sub(\"[^a-zA-Z]\", \" \", sentence) \n",
    "    \n",
    "    # m이 3개 이상이면 2개로 변경. Ex) ummmmmmm yeah -> umm yeah\n",
    "    sentence = re.sub('[m]{2,}', 'mm', sentence) \n",
    "    \n",
    "    # 불용어 제거 (Text)\n",
    "    if remove_stopwords:\n",
    "        tokens = ' '.join(word for word in sentence.split() if not word in stopwords.words('english') if len(word) > 1)\n",
    "    # 불용어 미제거 (Summary)\n",
    "    else:\n",
    "        tokens = ' '.join(word for word in sentence.split() if len(word) > 1)\n",
    "    return tokens\n",
    "\n",
    "print('함수 세팅 완료') "
   ]
  },
  {
   "cell_type": "code",
   "execution_count": 16,
   "metadata": {},
   "outputs": [
    {
     "data": {
      "text/plain": [
       "'aegon life iterm insurance plan customers enjoy tax benefits premiums paid save taxes plan provides life cover age years also customers options insure critical illnesses disability accidental death benefit rider life cover age years'"
      ]
     },
     "execution_count": 16,
     "metadata": {},
     "output_type": "execute_result"
    }
   ],
   "source": [
    "#data['text'] 에 대한 텍스트 정규화를 수행한다\n",
    "replaced_text = []\n",
    "\n",
    "for s in data['text']:\n",
    "    replaced_text.append(preprocessing(s))\n",
    "    \n",
    "#텍스트 정규화 후 결과 확인\n",
    "replaced_text[3]"
   ]
  },
  {
   "cell_type": "code",
   "execution_count": 18,
   "metadata": {},
   "outputs": [],
   "source": [
    "data['text'] = replaced_text"
   ]
  },
  {
   "cell_type": "markdown",
   "metadata": {},
   "source": [
    "- 텍스트(원문)에 대해서는 전처리가 성공적으로 수행되었으나, 타겟 데이터인 headlines에 대해서도 텍스트 정규화가 필요할 지 고민해 보아야 한다.     \n",
    "- 헤드라인을 랜덤으로 아웃하여 몇 개의 샘플을 확인해본다."
   ]
  },
  {
   "cell_type": "code",
   "execution_count": 17,
   "metadata": {},
   "outputs": [
    {
     "data": {
      "text/plain": [
       "55902    Hillary replies to comedian who got her tattoo...\n",
       "94468    India, B'desh to produce documentary on 1971 L...\n",
       "31881    Don't like when people call dance numbers item...\n",
       "22212    Sena richest regional party in 2016-17 with Ã¢...\n",
       "75256    Preity Zinta shares throwback picture with Ais...\n",
       "Name: headlines, dtype: object"
      ]
     },
     "execution_count": 17,
     "metadata": {},
     "output_type": "execute_result"
    }
   ],
   "source": [
    "data['headlines'].sample(5)"
   ]
  },
  {
   "cell_type": "markdown",
   "metadata": {},
   "source": [
    "> - 헤드라인을 랜덤으로 뽑아 본 결과, 기호나 축약어 등이 보인다.       \n",
    "> - 헤드라인을 정답 타겟으로 사용할 것이기 때문에 원문에 없는 기호가 헤드라인에 존재하는 것이 오히려 모델에 혼란을 줄 수 있다고 생각하므로, __헤드라인에도 텍스트 정규화가 필요할 것이라 판단한다.__"
   ]
  },
  {
   "cell_type": "code",
   "execution_count": 20,
   "metadata": {},
   "outputs": [
    {
     "data": {
      "text/plain": [
       "'aegon life iterm insurance plan helps customers save tax'"
      ]
     },
     "execution_count": 20,
     "metadata": {},
     "output_type": "execute_result"
    }
   ],
   "source": [
    "replaced_headlines=[]\n",
    "\n",
    "for s in data['headlines']:\n",
    "    replaced_headlines.append(preprocessing(s))\n",
    "    \n",
    "replaced_headlines[3]"
   ]
  },
  {
   "cell_type": "code",
   "execution_count": 22,
   "metadata": {},
   "outputs": [],
   "source": [
    "data['headlines'] = replaced_headlines"
   ]
  },
  {
   "cell_type": "markdown",
   "metadata": {},
   "source": [
    "### 5. 데이터셋 분리                     \n",
    "\n",
    "- 훈련 세트와 데이터 세트를 분리해보도록 한다.               \n",
    "\n",
    "#### 1. 샘플의 최대 길이를 그래프로 확인하고, 일정 길이 내에서 정리한다.  "
   ]
  },
  {
   "cell_type": "code",
   "execution_count": 27,
   "metadata": {},
   "outputs": [
    {
     "name": "stdout",
     "output_type": "stream",
     "text": [
      "텍스트의 최소 길이 : 1\n",
      "텍스트의 최대 길이 : 60\n",
      "텍스트의 평균 길이 : 35.09968483123221\n",
      "요약의 최소 길이 : 1\n",
      "요약의 최대 길이 : 13\n",
      "요약의 평균 길이 : 7.136183407889386\n"
     ]
    },
    {
     "data": {
      "image/png": "[encoded data removed]",
      "text/plain": [
       "<Figure size 432x288 with 2 Axes>"
      ]
     },
     "metadata": {
      "needs_background": "light"
     },
     "output_type": "display_data"
    },
    {
     "data": {
      "image/png": "[encoded data removed]",
      "text/plain": [
       "<Figure size 432x288 with 1 Axes>"
      ]
     },
     "metadata": {
      "needs_background": "light"
     },
     "output_type": "display_data"
    },
    {
     "data": {
      "image/png": "[encoded data removed]",
      "text/plain": [
       "<Figure size 432x288 with 1 Axes>"
      ]
     },
     "metadata": {
      "needs_background": "light"
     },
     "output_type": "display_data"
    }
   ],
   "source": [
    "# 길이 분포 출력\n",
    "import matplotlib.pyplot as plt\n",
    "\n",
    "text_len = [len(s.split()) for s in data['text']]\n",
    "summary_len = [len(s.split()) for s in data['headlines']]\n",
    "\n",
    "print('텍스트의 최소 길이 : {}'.format(np.min(text_len)))\n",
    "print('텍스트의 최대 길이 : {}'.format(np.max(text_len)))\n",
    "print('텍스트의 평균 길이 : {}'.format(np.mean(text_len)))\n",
    "print('요약의 최소 길이 : {}'.format(np.min(summary_len)))\n",
    "print('요약의 최대 길이 : {}'.format(np.max(summary_len)))\n",
    "print('요약의 평균 길이 : {}'.format(np.mean(summary_len)))\n",
    "\n",
    "plt.subplot(1,2,1)\n",
    "plt.boxplot(summary_len)\n",
    "plt.title('Headlines')\n",
    "plt.subplot(1,2,2)\n",
    "plt.boxplot(text_len)\n",
    "plt.title('Text')\n",
    "plt.tight_layout()\n",
    "plt.show()\n",
    "\n",
    "plt.title('Headlines')\n",
    "plt.hist(summary_len, bins = 40)\n",
    "plt.xlabel('length of samples')\n",
    "plt.ylabel('number of samples')\n",
    "plt.show()\n",
    "\n",
    "plt.title('Text')\n",
    "plt.hist(text_len, bins = 40)\n",
    "plt.xlabel('length of samples')\n",
    "plt.ylabel('number of samples')\n",
    "plt.show()"
   ]
  },
  {
   "cell_type": "markdown",
   "metadata": {},
   "source": [
    "> - 데이터는 대체적으로 정규 분포에 가깝다.               \n",
    "> - 별도의 처리는 필요하지는 않을 것 같다."
   ]
  },
  {
   "cell_type": "markdown",
   "metadata": {},
   "source": [
    "#### 2. 시작 토큰과 종료 토큰을 앞 뒤로 추가한다."
   ]
  },
  {
   "cell_type": "code",
   "execution_count": 28,
   "metadata": {},
   "outputs": [
    {
     "data": {
      "text/html": [
       "<div>\n",
       "<style scoped>\n",
       "    .dataframe tbody tr th:only-of-type {\n",
       "        vertical-align: middle;\n",
       "    }\n",
       "\n",
       "    .dataframe tbody tr th {\n",
       "        vertical-align: top;\n",
       "    }\n",
       "\n",
       "    .dataframe thead th {\n",
       "        text-align: right;\n",
       "    }\n",
       "</style>\n",
       "<table border=\"1\" class=\"dataframe\">\n",
       "  <thead>\n",
       "    <tr style=\"text-align: right;\">\n",
       "      <th></th>\n",
       "      <th>text</th>\n",
       "      <th>headlines</th>\n",
       "      <th>decoder_input</th>\n",
       "      <th>decoder_target</th>\n",
       "    </tr>\n",
       "  </thead>\n",
       "  <tbody>\n",
       "    <tr>\n",
       "      <th>0</th>\n",
       "      <td>saurav kant alumnus upgrad iiit pg program mac...</td>\n",
       "      <td>upgrad learner switches career ml al salary hike</td>\n",
       "      <td>sostoken upgrad learner switches career ml al ...</td>\n",
       "      <td>upgrad learner switches career ml al salary hi...</td>\n",
       "    </tr>\n",
       "    <tr>\n",
       "      <th>1</th>\n",
       "      <td>kunal shah credit card bill payment platform c...</td>\n",
       "      <td>delhi techie wins free food swiggy one year cred</td>\n",
       "      <td>sostoken delhi techie wins free food swiggy on...</td>\n",
       "      <td>delhi techie wins free food swiggy one year cr...</td>\n",
       "    </tr>\n",
       "    <tr>\n",
       "      <th>2</th>\n",
       "      <td>new zealand defeated india wickets fourth odi ...</td>\n",
       "      <td>new zealand end rohit sharma led india match w...</td>\n",
       "      <td>sostoken new zealand end rohit sharma led indi...</td>\n",
       "      <td>new zealand end rohit sharma led india match w...</td>\n",
       "    </tr>\n",
       "    <tr>\n",
       "      <th>3</th>\n",
       "      <td>aegon life iterm insurance plan customers enjo...</td>\n",
       "      <td>aegon life iterm insurance plan helps customer...</td>\n",
       "      <td>sostoken aegon life iterm insurance plan helps...</td>\n",
       "      <td>aegon life iterm insurance plan helps customer...</td>\n",
       "    </tr>\n",
       "    <tr>\n",
       "      <th>4</th>\n",
       "      <td>speaking sexual harassment allegations rajkuma...</td>\n",
       "      <td>known hirani yrs metoo claims true sonam</td>\n",
       "      <td>sostoken known hirani yrs metoo claims true sonam</td>\n",
       "      <td>known hirani yrs metoo claims true sonam eostoken</td>\n",
       "    </tr>\n",
       "  </tbody>\n",
       "</table>\n",
       "</div>"
      ],
      "text/plain": [
       "                                                text  \\\n",
       "0  saurav kant alumnus upgrad iiit pg program mac...   \n",
       "1  kunal shah credit card bill payment platform c...   \n",
       "2  new zealand defeated india wickets fourth odi ...   \n",
       "3  aegon life iterm insurance plan customers enjo...   \n",
       "4  speaking sexual harassment allegations rajkuma...   \n",
       "\n",
       "                                           headlines  \\\n",
       "0   upgrad learner switches career ml al salary hike   \n",
       "1   delhi techie wins free food swiggy one year cred   \n",
       "2  new zealand end rohit sharma led india match w...   \n",
       "3  aegon life iterm insurance plan helps customer...   \n",
       "4           known hirani yrs metoo claims true sonam   \n",
       "\n",
       "                                       decoder_input  \\\n",
       "0  sostoken upgrad learner switches career ml al ...   \n",
       "1  sostoken delhi techie wins free food swiggy on...   \n",
       "2  sostoken new zealand end rohit sharma led indi...   \n",
       "3  sostoken aegon life iterm insurance plan helps...   \n",
       "4  sostoken known hirani yrs metoo claims true sonam   \n",
       "\n",
       "                                      decoder_target  \n",
       "0  upgrad learner switches career ml al salary hi...  \n",
       "1  delhi techie wins free food swiggy one year cr...  \n",
       "2  new zealand end rohit sharma led india match w...  \n",
       "3  aegon life iterm insurance plan helps customer...  \n",
       "4  known hirani yrs metoo claims true sonam eostoken  "
      ]
     },
     "execution_count": 28,
     "metadata": {},
     "output_type": "execute_result"
    }
   ],
   "source": [
    "#요약 데이터에는 시작 토큰과 종료 토큰을 추가한다.\n",
    "data['decoder_input'] = data['headlines'].apply(lambda x : 'sostoken '+ x)\n",
    "data['decoder_target'] = data['headlines'].apply(lambda x : x + ' eostoken')\n",
    "data.head()"
   ]
  },
  {
   "cell_type": "code",
   "execution_count": 29,
   "metadata": {},
   "outputs": [],
   "source": [
    "#인코더 입력, 디코더의 입력, 디코더의 라벨(타겟)을 각각 numpy로 저장\n",
    "encoder_input = np.array(data['text'])\n",
    "\n",
    "decoder_input = np.array(data['decoder_input'])\n",
    "decoder_target = np.array(data['decoder_target'])"
   ]
  },
  {
   "cell_type": "markdown",
   "metadata": {},
   "source": [
    "#### 3. 훈련 데이터와 테스트 데이터 분리하기"
   ]
  },
  {
   "cell_type": "code",
   "execution_count": 31,
   "metadata": {},
   "outputs": [
    {
     "name": "stdout",
     "output_type": "stream",
     "text": [
      "[40629 39015  2052 ... 44297 86182 70788]\n"
     ]
    }
   ],
   "source": [
    "#샘플을 랜덤으로 셔플해준다.\n",
    "indices = np.arange(encoder_input.shape[0])\n",
    "\n",
    "np.random.shuffle(indices)\n",
    "print(indices)"
   ]
  },
  {
   "cell_type": "code",
   "execution_count": 32,
   "metadata": {},
   "outputs": [],
   "source": [
    "#랜덤 수를 적용한 indices를 인풋, 타겟에 적용해줌\n",
    "encoder_input = encoder_input[indices]\n",
    "decoder_input = decoder_input[indices]\n",
    "decoder_target = decoder_target[indices]"
   ]
  },
  {
   "cell_type": "code",
   "execution_count": 33,
   "metadata": {},
   "outputs": [
    {
     "name": "stdout",
     "output_type": "stream",
     "text": [
      "테스트 데이터의 수 :  19672\n"
     ]
    }
   ],
   "source": [
    "#섞인 데이터를 8:2로 나누어 분리\n",
    "\n",
    "number_of_value = int(len(encoder_input)*0.2)\n",
    "print('테스트 데이터의 수 : ', number_of_value)"
   ]
  },
  {
   "cell_type": "code",
   "execution_count": 34,
   "metadata": {},
   "outputs": [
    {
     "name": "stdout",
     "output_type": "stream",
     "text": [
      "훈련 데이터의 개수 : 78688\n",
      "훈련 레이블의 개수 : 78688\n",
      "테스트 데이터의 개수 : 19672\n",
      "테스트 레이블의 개수 : 19672\n"
     ]
    }
   ],
   "source": [
    "encoder_input_train = encoder_input[:-number_of_value]\n",
    "decoder_input_train = decoder_input[:-number_of_value]\n",
    "decoder_target_train = decoder_target[:-number_of_value]\n",
    "\n",
    "encoder_input_test = encoder_input[-number_of_value:]\n",
    "decoder_input_test = decoder_input[-number_of_value:]\n",
    "decoder_target_test = decoder_target[-number_of_value:]\n",
    "\n",
    "print('훈련 데이터의 개수 :', len(encoder_input_train))\n",
    "print('훈련 레이블의 개수 :',len(decoder_input_train))\n",
    "print('테스트 데이터의 개수 :',len(encoder_input_test))\n",
    "print('테스트 레이블의 개수 :',len(decoder_input_test))"
   ]
  },
  {
   "cell_type": "markdown",
   "metadata": {},
   "source": [
    "> - 샘플을 8:2 비율로 학습데이터:훈련 데이터 셋으로 분리하였다."
   ]
  },
  {
   "cell_type": "markdown",
   "metadata": {},
   "source": [
    "#### 4. 분리된 데이터를 가지고, 단어 집합(단어 id)을 만들어준다.              \n",
    "\n",
    "- 인코더에 넣을 데이터를 가지고 먼저 단어 집합을 만든 뒤, 이를 분석하여 1차례 더 데이터를 정제한다."
   ]
  },
  {
   "cell_type": "code",
   "execution_count": 35,
   "metadata": {},
   "outputs": [],
   "source": [
    "src_tokenizer = Tokenizer()\n",
    "src_tokenizer.fit_on_texts(encoder_input_train)"
   ]
  },
  {
   "cell_type": "code",
   "execution_count": 37,
   "metadata": {},
   "outputs": [
    {
     "name": "stdout",
     "output_type": "stream",
     "text": [
      "단어 집합(vocabulary)의 크기 : 69648\n",
      "등장 빈도가 4번 이하인 희귀 단어의 수: 43246\n",
      "단어 집합에서 희귀 단어를 제외시킬 경우의 단어 집합의 크기 26402\n",
      "단어 집합에서 희귀 단어의 비율: 62.09223524006432\n",
      "전체 등장 빈도에서 희귀 단어 등장 빈도 비율: 2.661432375181004\n"
     ]
    }
   ],
   "source": [
    "#특정 단어의 출현 빈도를 분석한다.\n",
    "#5회 이하로 출현하는 단어는 정리할 수 있도록 한다.\n",
    "threshold = 5\n",
    "\n",
    "total_count = len(src_tokenizer.word_index)\n",
    "\n",
    "rare_count=0\n",
    "total_freq=0\n",
    "rare_freq=0\n",
    "\n",
    "#단어와 빈도 수의 쌍을 키와 밸류로 받는다\n",
    "for key, value in src_tokenizer.word_counts.items():\n",
    "    total_freq = total_freq + value\n",
    "    \n",
    "    #단어의 등장 빈도가 threshold보다 작으면 \n",
    "    if(value < threshold):\n",
    "        rare_count = rare_count + 1\n",
    "        rare_freq = rare_freq + value\n",
    "        \n",
    "\n",
    "print('단어 집합(vocabulary)의 크기 :',total_count)\n",
    "print('등장 빈도가 %s번 이하인 희귀 단어의 수: %s'%(threshold - 1, rare_count))\n",
    "print('단어 집합에서 희귀 단어를 제외시킬 경우의 단어 집합의 크기 %s'%(total_count - rare_count))\n",
    "print(\"단어 집합에서 희귀 단어의 비율:\", (rare_count / total_count)*100)\n",
    "print(\"전체 등장 빈도에서 희귀 단어 등장 빈도 비율:\", (rare_freq / total_freq)*100)"
   ]
  },
  {
   "cell_type": "markdown",
   "metadata": {},
   "source": [
    "- 데이터 셋에서 등장하는 유니크한 단어의 수는 69648개\n",
    "- 이 중 등장 빈도가 5번 이하인 드문 단어(희귀 단어) 수는 43246개\n",
    "- 희귀 단어의 등장 빈도는 2퍼센트 남짓이므로, 이를 제외시켜 훈련을 수행하고자 한다.          \n",
    "- 전체 단어 수를 20000개로 제한"
   ]
  },
  {
   "cell_type": "code",
   "execution_count": 38,
   "metadata": {},
   "outputs": [],
   "source": [
    "src_voca = 20000\n",
    "\n",
    "#단어 집합의 크기를 다시 셋팅하여\n",
    "src_tokenizer = Tokenizer(num_words = src_voca)\n",
    "\n",
    "#단어 집합의 재생성\n",
    "src_tokenizer.fit_on_texts(encoder_input_train)"
   ]
  },
  {
   "cell_type": "code",
   "execution_count": 39,
   "metadata": {},
   "outputs": [
    {
     "name": "stdout",
     "output_type": "stream",
     "text": [
      "[[16747, 7787, 19439, 1, 922, 2378, 2229, 185, 9522, 836, 74, 1986, 554, 72, 5637, 6399, 8413, 13375, 7788, 7789, 5699, 78, 50, 400, 72, 1025, 88, 24, 503, 78, 185, 16747, 788], [2, 1088, 100, 849, 226, 79, 894, 225, 2836, 3419, 807, 5325, 373, 74, 90, 559, 29, 373, 132, 849, 1, 3419, 249, 8835, 247, 97, 849, 249, 4270, 516, 369, 4270, 3767, 492, 2877], [49, 112, 46, 587, 622, 5874, 545, 1727, 7463, 10751, 17515, 6860, 11010, 1522, 57, 11010, 114, 5638, 212, 1359, 500, 768, 3373, 49, 46, 1, 11010, 114, 17516, 5700, 1756, 1315, 5546, 2, 2133, 143, 7463]]\n"
     ]
    }
   ],
   "source": [
    "# 텍스트 시퀀스를 정수 시퀀스로 변환\n",
    "# 학습 데이터셋과 테스트 데이터셋 모두 변환\n",
    "encoder_input_train = src_tokenizer.texts_to_sequences(encoder_input_train) \n",
    "encoder_input_test = src_tokenizer.texts_to_sequences(encoder_input_test)\n",
    "\n",
    "#잘 진행되었는지 샘플 출력\n",
    "print(encoder_input_train[:3])"
   ]
  },
  {
   "cell_type": "code",
   "execution_count": 40,
   "metadata": {},
   "outputs": [],
   "source": [
    "#헤드라인에 대해서도 동일 작업 수행\n",
    "tar_tokenizer = Tokenizer()\n",
    "tar_tokenizer.fit_on_texts(decoder_input_train)"
   ]
  },
  {
   "cell_type": "code",
   "execution_count": 41,
   "metadata": {},
   "outputs": [
    {
     "name": "stdout",
     "output_type": "stream",
     "text": [
      "단어 집합(vocabulary)의 크기 : 30037\n",
      "등장 빈도가 4번 이하인 희귀 단어의 수: 18599\n",
      "단어 집합에서 희귀 단어를 제외시킬 경우의 단어 집합의 크기 11438\n",
      "단어 집합에서 희귀 단어의 비율: 61.920298298764855\n",
      "전체 등장 빈도에서 희귀 단어 등장 빈도 비율: 5.005870523725659\n"
     ]
    }
   ],
   "source": [
    "threshold = 5\n",
    "total_cnt = len(tar_tokenizer.word_index) \n",
    "rare_cnt = 0 \n",
    "total_freq = 0 \n",
    "rare_freq = 0 \n",
    "\n",
    "# 단어와 빈도수의 쌍(pair)을 key와 value로 받는다.\n",
    "for key, value in tar_tokenizer.word_counts.items():\n",
    "    total_freq = total_freq + value\n",
    "\n",
    "    # 단어의 등장 빈도수가 threshold보다 작으면\n",
    "    if(value < threshold):\n",
    "        rare_cnt = rare_cnt + 1\n",
    "        rare_freq = rare_freq + value\n",
    "\n",
    "print('단어 집합(vocabulary)의 크기 :',total_cnt)\n",
    "print('등장 빈도가 %s번 이하인 희귀 단어의 수: %s'%(threshold - 1, rare_cnt))\n",
    "print('단어 집합에서 희귀 단어를 제외시킬 경우의 단어 집합의 크기 %s'%(total_cnt - rare_cnt))\n",
    "print(\"단어 집합에서 희귀 단어의 비율:\", (rare_cnt / total_cnt)*100)\n",
    "print(\"전체 등장 빈도에서 희귀 단어 등장 빈도 비율:\", (rare_freq / total_freq)*100)"
   ]
  },
  {
   "cell_type": "markdown",
   "metadata": {},
   "source": [
    "- 희귀 단어의 비율이 비슷하고, 등장 비율도 비슷하므로 타겟 데이터셋에서는 10000개의 단어 집합으로 제한"
   ]
  },
  {
   "cell_type": "code",
   "execution_count": 42,
   "metadata": {},
   "outputs": [
    {
     "name": "stdout",
     "output_type": "stream",
     "text": [
      "input\n",
      "input  [[1, 2471, 1160, 6377, 6065, 34], [1, 2472, 766, 4403, 303, 313, 415], [1, 6, 18, 849, 143, 2134, 5773, 43, 4404, 85], [1, 6378, 75, 2911, 1479, 1556], [1, 59, 2030, 116, 609]]\n",
      "target\n",
      "decoder  [[2471, 1160, 6377, 6065, 34, 2], [2472, 766, 4403, 303, 313, 415, 2], [6, 18, 849, 143, 2134, 5773, 43, 4404, 85, 2], [6378, 75, 2911, 1479, 1556, 2], [59, 2030, 116, 609, 2]]\n"
     ]
    }
   ],
   "source": [
    "tar_vocab = 10000\n",
    "tar_tokenizer = Tokenizer(num_words = tar_vocab) \n",
    "tar_tokenizer.fit_on_texts(decoder_input_train)\n",
    "tar_tokenizer.fit_on_texts(decoder_target_train)\n",
    "\n",
    "# 텍스트 시퀀스를 정수 시퀀스로 변환\n",
    "decoder_input_train = tar_tokenizer.texts_to_sequences(decoder_input_train) \n",
    "decoder_target_train = tar_tokenizer.texts_to_sequences(decoder_target_train)\n",
    "decoder_input_test = tar_tokenizer.texts_to_sequences(decoder_input_test)\n",
    "decoder_target_test = tar_tokenizer.texts_to_sequences(decoder_target_test)\n",
    "\n",
    "#잘 변환되었는지 확인\n",
    "print('input')\n",
    "print('input ',decoder_input_train[:5])\n",
    "print('target')\n",
    "print('decoder ',decoder_target_train[:5])"
   ]
  },
  {
   "cell_type": "markdown",
   "metadata": {},
   "source": [
    "#### 5. 다시 한 번 데이터 전처리              \n",
    "\n",
    "- train 셋에서는 20000 이상의 단어 집합들을 삭제해 주었다.\n",
    "- test 셋에서는 10000 이상의 단어 집합들을 삭제해 주었다.\n",
    "- 위의 처리 후 sos, eos 토큰만 남겨져 있는 길이 1의 집합들을 살피고, 이를 제거해주어야 한다."
   ]
  },
  {
   "cell_type": "code",
   "execution_count": 43,
   "metadata": {},
   "outputs": [
    {
     "name": "stdout",
     "output_type": "stream",
     "text": [
      "삭제할 훈련 데이터의 개수 : 3\n",
      "삭제할 테스트 데이터의 개수 : 1\n",
      "훈련 데이터의 개수 : 78685\n",
      "훈련 레이블의 개수 : 78685\n",
      "테스트 데이터의 개수 : 19671\n",
      "테스트 레이블의 개수 : 19671\n"
     ]
    },
    {
     "name": "stderr",
     "output_type": "stream",
     "text": [
      "/home/ssac23/anaconda3/envs/aiffel/lib/python3.7/site-packages/numpy/core/_asarray.py:83: VisibleDeprecationWarning: Creating an ndarray from ragged nested sequences (which is a list-or-tuple of lists-or-tuples-or ndarrays with different lengths or shapes) is deprecated. If you meant to do this, you must specify 'dtype=object' when creating the ndarray\n",
      "  return array(a, dtype, copy=False, order=order)\n"
     ]
    }
   ],
   "source": [
    "drop_train = [index for index, sentence in enumerate(decoder_input_train) if len(sentence) == 1]\n",
    "drop_test = [index for index, sentence in enumerate(decoder_input_test) if len(sentence) == 1]\n",
    "\n",
    "print('삭제할 훈련 데이터의 개수 :',len(drop_train))\n",
    "print('삭제할 테스트 데이터의 개수 :',len(drop_test))\n",
    "\n",
    "encoder_input_train = np.delete(encoder_input_train, drop_train, axis=0)\n",
    "decoder_input_train = np.delete(decoder_input_train, drop_train, axis=0)\n",
    "decoder_target_train = np.delete(decoder_target_train, drop_train, axis=0)\n",
    "\n",
    "encoder_input_test = np.delete(encoder_input_test, drop_test, axis=0)\n",
    "decoder_input_test = np.delete(decoder_input_test, drop_test, axis=0)\n",
    "decoder_target_test = np.delete(decoder_target_test, drop_test, axis=0)\n",
    "\n",
    "print('훈련 데이터의 개수 :', len(encoder_input_train))\n",
    "print('훈련 레이블의 개수 :',len(decoder_input_train))\n",
    "print('테스트 데이터의 개수 :',len(encoder_input_test))\n",
    "print('테스트 레이블의 개수 :',len(decoder_input_test))"
   ]
  },
  {
   "cell_type": "markdown",
   "metadata": {},
   "source": [
    "- 다행히, 크게 삭제할 만한 데이터는 없었다."
   ]
  },
  {
   "cell_type": "markdown",
   "metadata": {},
   "source": [
    "#### 6. 최대 길이를 기준으로 패딩 적용              \n",
    "\n",
    "- 포스트 패딩을 적용하고, 길이가 모자란 단어에 대해서는 0으로 패딩을 적용해준다."
   ]
  },
  {
   "cell_type": "code",
   "execution_count": 46,
   "metadata": {},
   "outputs": [],
   "source": [
    "#위에서 분석한 최소, 최대, 평균 데이터를 기준으로 최대 길이를 입력해준다.\n",
    "#어떤 데이터도 버리지 않았으므로 \"max_len = 데이터의 최대값\" 이다.\n",
    "text_max_len = 60\n",
    "summary_max_len = 13"
   ]
  },
  {
   "cell_type": "code",
   "execution_count": 47,
   "metadata": {},
   "outputs": [],
   "source": [
    "encoder_input_train = pad_sequences(encoder_input_train, maxlen = text_max_len, padding='post')\n",
    "encoder_input_test = pad_sequences(encoder_input_test, maxlen = text_max_len, padding='post')\n",
    "decoder_input_train = pad_sequences(decoder_input_train, maxlen = summary_max_len, padding='post')\n",
    "decoder_target_train = pad_sequences(decoder_target_train, maxlen = summary_max_len, padding='post')\n",
    "decoder_input_test = pad_sequences(decoder_input_test, maxlen = summary_max_len, padding='post')\n",
    "decoder_target_test = pad_sequences(decoder_target_test, maxlen = summary_max_len, padding='post')"
   ]
  },
  {
   "cell_type": "markdown",
   "metadata": {},
   "source": [
    "## 3. (추상적 요약을 위한) 어텐션 메커니즘 사용하기             \n",
    "\n",
    "- 이미 구현된 어텐션 메커니즘을 가져와, 디코더의 출력층에 결합하여 사용한다."
   ]
  },
  {
   "cell_type": "markdown",
   "metadata": {},
   "source": [
    "#### 1. 어텐션 메커니즘 적용하기"
   ]
  },
  {
   "cell_type": "code",
   "execution_count": 48,
   "metadata": {},
   "outputs": [
    {
     "name": "stdout",
     "output_type": "stream",
     "text": [
      "어텐션 레이어를 다운받아 활용\n"
     ]
    }
   ],
   "source": [
    "urllib.request.urlretrieve(\"https://raw.githubusercontent.com/thushv89/attention_keras/master/src/layers/attention.py\", filename=\"attention.py\")\n",
    "from attention import AttentionLayer\n",
    "\n",
    "print('어텐션 레이어를 다운받아 활용')"
   ]
  },
  {
   "cell_type": "code",
   "execution_count": 49,
   "metadata": {},
   "outputs": [
    {
     "name": "stdout",
     "output_type": "stream",
     "text": [
      "WARNING:tensorflow:Layer lstm will not use cuDNN kernel since it doesn't meet the cuDNN kernel criteria. It will use generic GPU kernel as fallback when running on GPU\n",
      "WARNING:tensorflow:Layer lstm_1 will not use cuDNN kernel since it doesn't meet the cuDNN kernel criteria. It will use generic GPU kernel as fallback when running on GPU\n",
      "WARNING:tensorflow:Layer lstm_2 will not use cuDNN kernel since it doesn't meet the cuDNN kernel criteria. It will use generic GPU kernel as fallback when running on GPU\n"
     ]
    }
   ],
   "source": [
    "from tensorflow.keras.layers import Input, LSTM, Embedding, Dense, Concatenate\n",
    "from tensorflow.keras.models import Model\n",
    "from tensorflow.keras.callbacks import EarlyStopping, ModelCheckpoint\n",
    "\n",
    "\n",
    "# 인코더 설계 시작\n",
    "embedding_dim = 128\n",
    "hidden_size = 256\n",
    "\n",
    "# 인코더\n",
    "encoder_inputs = Input(shape=(text_max_len,))\n",
    "\n",
    "# 인코더의 임베딩 층\n",
    "enc_emb = Embedding(src_voca, embedding_dim)(encoder_inputs)\n",
    "\n",
    "# 인코더의 LSTM 1\n",
    "encoder_lstm1 = LSTM(hidden_size, return_sequences=True, return_state=True ,dropout = 0.4, recurrent_dropout = 0.4)\n",
    "encoder_output1, state_h1, state_c1 = encoder_lstm1(enc_emb)\n",
    "\n",
    "# 인코더의 LSTM 2\n",
    "encoder_lstm2 = LSTM(hidden_size, return_sequences=True, return_state=True, dropout=0.4, recurrent_dropout=0.4)\n",
    "encoder_output2, state_h2, state_c2 = encoder_lstm2(encoder_output1)\n",
    "\n",
    "# 인코더의 LSTM 3\n",
    "encoder_lstm3 = LSTM(hidden_size, return_state=True, return_sequences=True, dropout=0.4, recurrent_dropout=0.4)\n",
    "encoder_outputs, state_h, state_c= encoder_lstm3(encoder_output2)"
   ]
  },
  {
   "cell_type": "code",
   "execution_count": 52,
   "metadata": {},
   "outputs": [
    {
     "name": "stdout",
     "output_type": "stream",
     "text": [
      "WARNING:tensorflow:Layer lstm_5 will not use cuDNN kernel since it doesn't meet the cuDNN kernel criteria. It will use generic GPU kernel as fallback when running on GPU\n"
     ]
    }
   ],
   "source": [
    "#디코더 \n",
    "decoder_inputs = Input(shape=(None,))\n",
    "\n",
    "# 디코더의 임베딩 층\n",
    "dec_emb_layer = Embedding(tar_vocab, embedding_dim)\n",
    "dec_emb = dec_emb_layer(decoder_inputs)\n",
    "\n",
    "# 디코더의 LSTM\n",
    "decoder_lstm = LSTM(hidden_size, return_sequences = True, return_state = True, dropout = 0.4, recurrent_dropout=0.2)\n",
    "decoder_outputs, _, _ = decoder_lstm(dec_emb, initial_state = [state_h, state_c])"
   ]
  },
  {
   "cell_type": "code",
   "execution_count": 53,
   "metadata": {},
   "outputs": [
    {
     "name": "stdout",
     "output_type": "stream",
     "text": [
      "Model: \"model\"\n",
      "__________________________________________________________________________________________________\n",
      "Layer (type)                    Output Shape         Param #     Connected to                     \n",
      "==================================================================================================\n",
      "input_1 (InputLayer)            [(None, 60)]         0                                            \n",
      "__________________________________________________________________________________________________\n",
      "embedding (Embedding)           (None, 60, 128)      2560000     input_1[0][0]                    \n",
      "__________________________________________________________________________________________________\n",
      "lstm (LSTM)                     [(None, 60, 256), (N 394240      embedding[0][0]                  \n",
      "__________________________________________________________________________________________________\n",
      "input_4 (InputLayer)            [(None, None)]       0                                            \n",
      "__________________________________________________________________________________________________\n",
      "lstm_1 (LSTM)                   [(None, 60, 256), (N 525312      lstm[0][0]                       \n",
      "__________________________________________________________________________________________________\n",
      "embedding_3 (Embedding)         (None, None, 128)    1280000     input_4[0][0]                    \n",
      "__________________________________________________________________________________________________\n",
      "lstm_2 (LSTM)                   [(None, 60, 256), (N 525312      lstm_1[0][0]                     \n",
      "__________________________________________________________________________________________________\n",
      "lstm_5 (LSTM)                   [(None, None, 256),  394240      embedding_3[0][0]                \n",
      "                                                                 lstm_2[0][1]                     \n",
      "                                                                 lstm_2[0][2]                     \n",
      "__________________________________________________________________________________________________\n",
      "attention_layer (AttentionLayer ((None, None, 256),  131328      lstm_2[0][0]                     \n",
      "                                                                 lstm_5[0][0]                     \n",
      "__________________________________________________________________________________________________\n",
      "concat_layer (Concatenate)      (None, None, 512)    0           lstm_5[0][0]                     \n",
      "                                                                 attention_layer[0][0]            \n",
      "__________________________________________________________________________________________________\n",
      "dense_1 (Dense)                 (None, None, 10000)  5130000     concat_layer[0][0]               \n",
      "==================================================================================================\n",
      "Total params: 10,940,432\n",
      "Trainable params: 10,940,432\n",
      "Non-trainable params: 0\n",
      "__________________________________________________________________________________________________\n"
     ]
    }
   ],
   "source": [
    "# 어텐션 층(어텐션 함수)\n",
    "attn_layer = AttentionLayer(name='attention_layer')\n",
    "\n",
    "# 인코더와 디코더의 모든 time step의 hidden state를 어텐션 층에 전달하고 결과를 리턴\n",
    "attn_out, attn_states = attn_layer([encoder_outputs, decoder_outputs])\n",
    "\n",
    "# 어텐션의 결과와 디코더의 hidden state들을 연결\n",
    "decoder_concat_input = Concatenate(axis = -1, name='concat_layer')([decoder_outputs, attn_out])\n",
    "\n",
    "# 디코더의 출력층\n",
    "decoder_softmax_layer = Dense(tar_vocab, activation='softmax')\n",
    "decoder_softmax_outputs = decoder_softmax_layer(decoder_concat_input)\n",
    "\n",
    "# 모델 정의\n",
    "model = Model([encoder_inputs, decoder_inputs], decoder_softmax_outputs)\n",
    "model.summary()"
   ]
  },
  {
   "cell_type": "markdown",
   "metadata": {},
   "source": [
    "> - 실습 노드에서 진행한 모델과 유사한 순서/구성으로 우선 구성하였다."
   ]
  },
  {
   "cell_type": "markdown",
   "metadata": {},
   "source": [
    "### 2. 어텐션 모델 훈련하기            \n",
    "\n",
    "- 설계한 모델로 훈련을 진행한다.          \n",
    "- '얼리스탑' 을 적용하되, 노드 실습시 20번 epoch 이상 시도에서 조기 종료했으므로 에포크를 절반인 25로 줄여 학습한다. "
   ]
  },
  {
   "cell_type": "code",
   "execution_count": 54,
   "metadata": {},
   "outputs": [
    {
     "name": "stdout",
     "output_type": "stream",
     "text": [
      "Epoch 1/25\n",
      "308/308 [==============================] - 150s 487ms/step - loss: 4.3414 - val_loss: 4.0016\n",
      "Epoch 2/25\n",
      "308/308 [==============================] - 155s 504ms/step - loss: 3.8888 - val_loss: 3.7310\n",
      "Epoch 3/25\n",
      "308/308 [==============================] - 155s 504ms/step - loss: 3.6542 - val_loss: 3.5688\n",
      "Epoch 4/25\n",
      "308/308 [==============================] - 155s 503ms/step - loss: 3.4686 - val_loss: 3.4030\n",
      "Epoch 5/25\n",
      "308/308 [==============================] - 155s 502ms/step - loss: 3.3067 - val_loss: 3.2862\n",
      "Epoch 6/25\n",
      "308/308 [==============================] - 156s 506ms/step - loss: 3.1707 - val_loss: 3.2041\n",
      "Epoch 7/25\n",
      "308/308 [==============================] - 155s 502ms/step - loss: 3.0544 - val_loss: 3.1325\n",
      "Epoch 8/25\n",
      "308/308 [==============================] - 154s 500ms/step - loss: 2.9523 - val_loss: 3.0699\n",
      "Epoch 9/25\n",
      "308/308 [==============================] - 155s 502ms/step - loss: 2.8630 - val_loss: 3.0284\n",
      "Epoch 10/25\n",
      "308/308 [==============================] - 155s 503ms/step - loss: 2.7822 - val_loss: 2.9865\n",
      "Epoch 11/25\n",
      "308/308 [==============================] - 155s 504ms/step - loss: 2.7120 - val_loss: 2.9576\n",
      "Epoch 12/25\n",
      "308/308 [==============================] - 155s 503ms/step - loss: 2.6460 - val_loss: 2.9233\n",
      "Epoch 13/25\n",
      "308/308 [==============================] - 155s 502ms/step - loss: 2.5874 - val_loss: 2.9000\n",
      "Epoch 14/25\n",
      "308/308 [==============================] - 155s 504ms/step - loss: 2.5311 - val_loss: 2.8860\n",
      "Epoch 15/25\n",
      "308/308 [==============================] - 155s 503ms/step - loss: 2.4790 - val_loss: 2.8639\n",
      "Epoch 16/25\n",
      "308/308 [==============================] - 154s 500ms/step - loss: 2.4296 - val_loss: 2.8569\n",
      "Epoch 17/25\n",
      "308/308 [==============================] - 152s 495ms/step - loss: 2.3834 - val_loss: 2.8387\n",
      "Epoch 18/25\n",
      "308/308 [==============================] - 152s 494ms/step - loss: 2.3387 - val_loss: 2.8331\n",
      "Epoch 19/25\n",
      "308/308 [==============================] - 157s 510ms/step - loss: 2.2990 - val_loss: 2.8208\n",
      "Epoch 20/25\n",
      "308/308 [==============================] - 155s 503ms/step - loss: 2.2573 - val_loss: 2.8124\n",
      "Epoch 21/25\n",
      "308/308 [==============================] - 155s 504ms/step - loss: 2.2216 - val_loss: 2.8078\n",
      "Epoch 22/25\n",
      "308/308 [==============================] - 155s 504ms/step - loss: 2.1901 - val_loss: 2.7949\n",
      "Epoch 23/25\n",
      "308/308 [==============================] - 154s 498ms/step - loss: 2.1610 - val_loss: 2.8011\n",
      "Epoch 24/25\n",
      "308/308 [==============================] - 156s 506ms/step - loss: 2.1293 - val_loss: 2.7898\n",
      "Epoch 25/25\n",
      "308/308 [==============================] - 157s 510ms/step - loss: 2.0991 - val_loss: 2.7904\n"
     ]
    }
   ],
   "source": [
    "model.compile(optimizer='rmsprop', loss='sparse_categorical_crossentropy')\n",
    "es = EarlyStopping(monitor='val_loss', mode='min', verbose=1, patience = 2)\n",
    "history = model.fit(x = [encoder_input_train, decoder_input_train], y = decoder_target_train, \\\n",
    "          validation_data = ([encoder_input_test, decoder_input_test], decoder_target_test),\n",
    "          batch_size = 256, callbacks=[es], epochs =  25)"
   ]
  },
  {
   "cell_type": "code",
   "execution_count": 55,
   "metadata": {},
   "outputs": [
    {
     "data": {
      "image/png": "[encoded data removed]",
      "text/plain": [
       "<Figure size 432x288 with 1 Axes>"
      ]
     },
     "metadata": {
      "needs_background": "light"
     },
     "output_type": "display_data"
    }
   ],
   "source": [
    "plt.plot(history.history['loss'], label='train')\n",
    "plt.plot(history.history['val_loss'], label='test')\n",
    "plt.legend()\n",
    "plt.show()"
   ]
  },
  {
   "cell_type": "markdown",
   "metadata": {},
   "source": [
    "### 3. 훈련시킨 어텐션 모델을 기반으로 test를 진행할 수 있는 인퍼런스 모델 구현하기        \n",
    "\n",
    "- 테스트를 시행할 때, 정수 행렬로 존재하던 데이터를 실제 문자 데이터로 복원해야 하므로 변환 준비를 한다."
   ]
  },
  {
   "cell_type": "code",
   "execution_count": 63,
   "metadata": {},
   "outputs": [],
   "source": [
    "#텍스트 샘플에서 정수 to 단어\n",
    "src_index_to_word = src_tokenizer.index_word\n",
    "\n",
    "#헤드라인 샘플에서 단어 to 정수\n",
    "tar_word_to_index = tar_tokenizer.word_index\n",
    "#헤드라인 샘플에서 정수 to 단어\n",
    "tar_index_to_word = tar_tokenizer.index_word"
   ]
  },
  {
   "cell_type": "markdown",
   "metadata": {},
   "source": [
    "- 인퍼런스 단계(seq2seq단어에 단어 생성을 요청할 때)를 위한 별도의 모델을 설계한다.          \n",
    "- 인퍼런스 단계에서는 타겟 문장이 없으므로, 훈련 단계와 달리 인코더와 디코더 모델을 분리 설계한다."
   ]
  },
  {
   "cell_type": "code",
   "execution_count": 56,
   "metadata": {},
   "outputs": [],
   "source": [
    "# 인코더 설계\n",
    "encoder_model = Model(inputs=encoder_inputs, outputs=[encoder_outputs, state_h, state_c])\n",
    "\n",
    "# 이전 시점의 상태들을 저장하는 텐서\n",
    "decoder_state_input_h = Input(shape=(hidden_size,))\n",
    "decoder_state_input_c = Input(shape=(hidden_size,))\n",
    "\n",
    "dec_emb2 = dec_emb_layer(decoder_inputs)\n",
    "# 문장의 다음 단어를 예측하기 위해서 초기 상태(initial_state)를 이전 시점의 상태로 사용. 이는 뒤의 함수 decode_sequence()에 구현\n",
    "# 훈련 과정에서와 달리 LSTM의 리턴하는 은닉 상태와 셀 상태인 state_h와 state_c를 버리지 않음.\n",
    "decoder_outputs2, state_h2, state_c2 = decoder_lstm(dec_emb2, initial_state=[decoder_state_input_h, decoder_state_input_c])"
   ]
  },
  {
   "cell_type": "code",
   "execution_count": 57,
   "metadata": {},
   "outputs": [],
   "source": [
    "# 어텐션 함수\n",
    "decoder_hidden_state_input = Input(shape=(text_max_len, hidden_size))\n",
    "attn_out_inf, attn_states_inf = attn_layer([decoder_hidden_state_input, decoder_outputs2])\n",
    "decoder_inf_concat = Concatenate(axis=-1, name='concat')([decoder_outputs2, attn_out_inf])\n",
    "\n",
    "# 디코더의 출력층\n",
    "decoder_outputs2 = decoder_softmax_layer(decoder_inf_concat) \n",
    "\n",
    "# 최종 디코더 모델\n",
    "decoder_model = Model(\n",
    "    [decoder_inputs] + [decoder_hidden_state_input,decoder_state_input_h, decoder_state_input_c],\n",
    "    [decoder_outputs2] + [state_h2, state_c2])"
   ]
  },
  {
   "cell_type": "code",
   "execution_count": 58,
   "metadata": {},
   "outputs": [],
   "source": [
    "def decode_sequence(input_seq):\n",
    "    # 입력으로부터 인코더의 상태를 얻음\n",
    "    e_out, e_h, e_c = encoder_model.predict(input_seq)\n",
    "\n",
    "     # <SOS>에 해당하는 토큰 생성\n",
    "    target_seq = np.zeros((1,1))\n",
    "    target_seq[0, 0] = tar_word_to_index['sostoken']\n",
    "\n",
    "    stop_condition = False\n",
    "    decoded_sentence = ''\n",
    "    while not stop_condition: # stop_condition이 True가 될 때까지 루프 반복\n",
    "\n",
    "        output_tokens, h, c = decoder_model.predict([target_seq] + [e_out, e_h, e_c])\n",
    "        sampled_token_index = np.argmax(output_tokens[0, -1, :])\n",
    "        sampled_token = tar_index_to_word[sampled_token_index]\n",
    "\n",
    "        if(sampled_token!='eostoken'):\n",
    "            decoded_sentence += ' '+sampled_token\n",
    "\n",
    "        #  <eos>에 도달하거나 최대 길이를 넘으면 중단.\n",
    "        if (sampled_token == 'eostoken'  or len(decoded_sentence.split()) >= (summary_max_len-1)):\n",
    "            stop_condition = True\n",
    "\n",
    "        # 길이가 1인 타겟 시퀀스를 업데이트\n",
    "        target_seq = np.zeros((1,1))\n",
    "        target_seq[0, 0] = sampled_token_index\n",
    "\n",
    "        # 상태를 업데이트 합니다.\n",
    "        e_h, e_c = h, c\n",
    "\n",
    "    return decoded_sentence"
   ]
  },
  {
   "cell_type": "markdown",
   "metadata": {},
   "source": [
    "## 4. (추상적 요약) 실제 결과와 요약문 비교하기\n",
    "\n",
    "### 1. 패딩을 제거한 문자 변환 함수를 준비한다."
   ]
  },
  {
   "cell_type": "code",
   "execution_count": 59,
   "metadata": {},
   "outputs": [],
   "source": [
    "# 원문의 정수 시퀀스를 텍스트 시퀀스로 변환\n",
    "def seq2text(input_seq):\n",
    "    temp=''\n",
    "    for i in input_seq:\n",
    "        if(i!=0):\n",
    "            temp = temp + src_index_to_word[i]+' '\n",
    "    return temp\n",
    "\n",
    "# 요약문의 정수 시퀀스를 텍스트 시퀀스로 변환\n",
    "def seq2summary(input_seq):\n",
    "    temp=''\n",
    "    for i in input_seq:\n",
    "        if((i!=0 and i!=tar_word_to_index['sostoken']) and i!=tar_word_to_index['eostoken']):\n",
    "            temp = temp + tar_index_to_word[i] + ' '\n",
    "    return temp"
   ]
  },
  {
   "cell_type": "markdown",
   "metadata": {},
   "source": [
    "### 2. 3의 훈련된 모델과 인퍼런스 모델, 4-1의 함수를 기반으로 하여 실제로 모델을 테스트해보자."
   ]
  },
  {
   "cell_type": "code",
   "execution_count": 60,
   "metadata": {},
   "outputs": [
    {
     "name": "stdout",
     "output_type": "stream",
     "text": [
      "인코더 인풋 모델의 범위 :  19671\n"
     ]
    }
   ],
   "source": [
    "print('인코더 인풋 모델의 범위 : ', len(encoder_input_test))"
   ]
  },
  {
   "cell_type": "code",
   "execution_count": 64,
   "metadata": {},
   "outputs": [
    {
     "name": "stdout",
     "output_type": "stream",
     "text": [
      "원문 : google doodle saturday honoured occasion birth anniversary india celebrates engineer day doodle shows wearing mysore peta dam built across cauvery river karnataka background received bharat ratna also credited building hyderabad flood protection system \n",
      "실제 요약 : google doodle honours engineer day \n",
      "예측 요약 :  google pays tribute blue whale day\n",
      "\n",
      "\n",
      "원문 : actor dhanush reportedly playing role arunachalam muruganantham inventor low cost sanitary pad making machine tamil remake akshay kumar pad man per reports film produced banner columbia pictures also produced hindi version film \n",
      "실제 요약 : dhanush star tamil remake pad man reports \n",
      "예측 요약 :  jacqueline shares film inspired akshay kumar\n",
      "\n",
      "\n",
      "원문 : pacer patel part india world cup winning squad announced retirement forms cricket regret cricketers played retired dhoni left sab done ho hain year old said represented india taking wickets matches \n",
      "실제 요약 : done ho hain dhoni left retirement \n",
      "예측 요약 :  players played cricket team india harbhajan\n",
      "\n",
      "\n",
      "원문 : haryana police paramilitary forces fired rounds ammunition panchkula riots following ram rahim conviction rape case according government report people died violence reportedly died bullet injuries post mortem reports revealed shot head chest back \n",
      "실제 요약 : fired ram rahim followers panchkula report \n",
      "예측 요약 :  police orders ram rahim rape accused violence\n",
      "\n",
      "\n",
      "원문 : attacking bjp senior congress leader shashi tharoor said allies bjp beginning desert sinking ship telling sign well within alliance added attacked pm narendra modi saying growing frustration among members nda authoritarian one man show \n",
      "실제 요약 : bjp allies ship telling sign tharoor \n",
      "예측 요약 :  bjp leader must apologise bjp tharoor\n",
      "\n",
      "\n",
      "원문 : former cricketer rahul dravid named ambassador bengaluru fc upcoming indian super league season true think one values club bengaluru fc ceo said dravid ex teammates sourav ganguly ms dhoni virat kohli sachin tendulkar teams isl \n",
      "실제 요약 : dravid named bengaluru fc ambassador isl season \n",
      "예측 요약 :  dravid dravid dravid posts ipl match\n",
      "\n",
      "\n",
      "원문 : dating app bumble announced platform ban images guns weapons like knives user profiles comes wake mass shooting school us resulted death people earlier app also banned users sent hate messages platform \n",
      "실제 요약 : dating app bans images guns user profiles \n",
      "예측 요약 :  dating app lets users death fake news\n",
      "\n",
      "\n",
      "원문 : window us military helicopter fell onto sports ground school near us air base japan wednesday immediate reports injuries accident adding investigating incident us military said regrettable incident apologise anxiety caused community \n",
      "실제 요약 : us military chopper window falls school ground japan \n",
      "예측 요약 :  us military plane crashes lands japan\n",
      "\n",
      "\n",
      "원문 : russia offer host meeting us president donald trump north korean leader kim jong un russian foreign minister sergey lavrov said calling military solution resolve tensions korean peninsula lavrov said proposed meet would go trump jong un expected meet month june \n",
      "실제 요약 : would offer host trump kim jong un meet russia \n",
      "예측 요약 :  kim jong un invites un meet trump kim jong un\n",
      "\n",
      "\n",
      "원문 : china even inch land prepared fight bloody battle enemies safeguard sovereignty territorial integrity china president xi jinping said however added china never seek engage expansion china territorial disputes around countries including india bhutan \n",
      "실제 요약 : inch land ready battle china \n",
      "예측 요약 :  china wants china xi xi\n",
      "\n",
      "\n",
      "원문 : people including six crew members onboard airlines plane killed aircraft crashed iran southern province airline confirmed aircraft crashed area near remote town km south capital tehran choppers deployed since area inaccessible ambulances \n",
      "실제 요약 : onboard killed iran plane crash \n",
      "예측 요약 :  plane crashes plane crashes us\n",
      "\n",
      "\n",
      "원문 : world middle cold war due threat new phase nuclear german foreign minister gabriel warned said chancellor angela merkel making major mistake allegedly following us president donald trump planning increase country military spending \n",
      "실제 요약 : world middle cold war german foreign minister \n",
      "예측 요약 :  world war germany\n",
      "\n",
      "\n",
      "원문 : four labourers monday reportedly injured tree branch fell station road mumbai admitted hospital injuries later declared danger reportedly tree fall cases rise kalyan last year fewer cases reported getting complaints tree falls daily authorities said \n",
      "실제 요약 : labourers injured tree branch falls mumbai \n",
      "예측 요약 :  fire breaks mumbai hospital\n",
      "\n",
      "\n",
      "원문 : premier league leaders manchester city defeated newcastle united wednesday register record th consecutive win league win city points clear second placed manchester united city win next two premier league matches break german club bayern munich record consecutive top flight wins europe top five leagues \n",
      "실제 요약 : man city make straight wins go points clear top \n",
      "예측 요약 :  man city beat chelsea win th straight win\n",
      "\n",
      "\n",
      "원문 : rajkummar rao talking co star aishwarya rai upcoming film fanney khan said nervous romance world beautiful woman rajkummar added chance shoot workshops sessions said looking forward love angle film \n",
      "실제 요약 : nervous romance world beautiful woman rao \n",
      "예측 요약 :  rajkummar rao star aish fanney khan\n",
      "\n",
      "\n",
      "원문 : madhavan named best actor performance tamil film filmfare awards south ritika singh best actor award sudha prasad named best director meanwhile ar rahman named best music director film \n",
      "실제 요약 : madhavan named best actor filmfare awards south \n",
      "예측 요약 :  awards best actor oscars\n",
      "\n",
      "\n",
      "원문 : parliamentary panel suggested merger state run telecom firms bharat nigam telephone nigam long term survival committee said merger would give entities chance compete private sector players telecom department informed panel firms financial losses face declining revenues \n",
      "실제 요약 : parliamentary panel proposes merger bsnl \n",
      "예측 요약 :  government merger merger\n",
      "\n",
      "\n",
      "원문 : university madhya pradesh bhopal introduce three month adarsh bahu course next academic session university believes part women empowerment university vice chancellor said university responsibilities towards society well objective prepare brides keep families intact \n",
      "실제 요약 : mp varsity launches course women \n",
      "예측 요약 :  mp mp mp mp govt hold language syllabus\n",
      "\n",
      "\n",
      "원문 : talking likes twinkle khanna said look brain eventually come point looks begin fade would rely brain get alzheimer would nothing rely added twinkle said tries new skills keep alzheimer away \n",
      "실제 요약 : look brain looks twinkle \n",
      "예측 요약 :  even like feet like blue whale actress twinkle\n",
      "\n",
      "\n",
      "원문 : team india organised midnight cake cutting former captain ms dhoni th birthday video posted hardik pandya snapchat shows dhoni sitting bed players surround singing happy birthday video also features dhoni wife sakshi song baar baar din ye aaye playing background \n",
      "실제 요약 : team india organises midnight cake cutting ms dhoni \n",
      "예측 요약 :  dhoni wishes dhoni birthday cake th birthday\n",
      "\n",
      "\n",
      "원문 : rss chief mohan bhagwat tuesday said br ambedkar felt non violent protest satyagraha required post independence india speech constituent assembly ambedkar said british rule fine time added bhagwat asserted cannot freedom fighters time \n",
      "실제 요약 : ambedkar said required today india rss \n",
      "예측 요약 :  rss chief compares rss chief bhagwat\n",
      "\n",
      "\n",
      "원문 : claiming samajwadi party bsp casteist politics expelled samajwadi party leader amar singh monday said would prefer support prime minister narendra modi chief minister yogi adityanath called congress fringe player added sp bsp two sides coin \n",
      "실제 요약 : would prefer pm modi yogi sp bsp expelled sp leader \n",
      "예측 요약 :  sp bsp sp alliance sp bsp leader\n",
      "\n",
      "\n",
      "원문 : tata steel tuesday said raise crore debt instruments fund crore acquisition bankrupt bhushan steel remaining amount raised internal resources company added tata steel reportedly take board employees bhushan steel part resolution plan submitted \n",
      "실제 요약 : tata steel raise cr debt bhushan steel deal \n",
      "예측 요약 :  tata steel seeks crore loss crore\n",
      "\n",
      "\n",
      "원문 : ken year old war veteran survived battle world war ii attended premiere christopher nolan film canada happened watching movie could see old friends lot died later war said ken \n",
      "실제 요약 : war veteran survived wwii attends premiere \n",
      "예측 요약 :  wwii war ii\n",
      "\n",
      "\n",
      "원문 : italy based researchers developed screening method claims accurately predict baby would turn left handed right handed using mothers map foetuses real time researchers found well established hand dominance around week power ranged \n",
      "실제 요약 : study claims find babies left handed birth \n"
     ]
    },
    {
     "name": "stdout",
     "output_type": "stream",
     "text": [
      "예측 요약 :  scientists develop new method\n",
      "\n",
      "\n",
      "원문 : four children held hostage year old apartment florida us found dead along suspect standoff suspect police lasted hours began police responded domestic violence call police said two children believed suspect two girlfriend \n",
      "실제 요약 : man kills kids holding hostage hrs us \n",
      "예측 요약 :  girls rescued us school suspect killed\n",
      "\n",
      "\n",
      "원문 : addressing summit germany friday pm narendra modi said lashkar taiba jaish mohammad equal islamic state al qaeda ideology modi lead speaker fighting terrorism session presented point action agenda calling collective measures terror said nations using terrorism achieving political goals \n",
      "실제 요약 : let jem equal al qaeda modi lead speaker \n",
      "예측 요약 :  taliban hafiz saeed terror attacks pm modi\n",
      "\n",
      "\n",
      "원문 : following pm narendra modi meeting bangladeshi counterpart sheikh hasina saturday two countries signed agreements various key sectors pm modi announced line credit crore bangladesh defence procurement crore projects priority sectors india would partner bangladesh goal power added \n",
      "실제 요약 : india bangladesh sign agreements \n",
      "예측 요약 :  pm modi hold third foreign pm modi israel\n",
      "\n",
      "\n",
      "원문 : filmmaker karan johar took twitter post man named usman khan claimed people called johar lookalike man written reply one johar tweets people say look like responding johar wrote tweets leave one \n",
      "실제 요약 : left johar man claims lookalike \n",
      "예측 요약 :  man shot karan johar johar\n",
      "\n",
      "\n",
      "원문 : maruti suzuki india managing director chief executive officer took home total remuneration crore increase previous fiscal included performance linked bonus crore company chairman rc bhargava received total remuneration lakh compared lakh previous fiscal \n",
      "실제 요약 : maruti suzuki india ceo earned salary crore \n",
      "예측 요약 :  ex executives md md joins salary crore\n",
      "\n",
      "\n",
      "원문 : flipkart co founder sachin bansal may sell entire stake indian commerce startup walmart looking acquire controlling stake company according reports bansal may also quit deal goes earlier reports suggested reportedly aligned strategy proposed post walmart deal \n",
      "실제 요약 : sachin bansal may sell entire flipkart stake walmart \n",
      "예측 요약 :  flipkart sachin bansal talks buy stake flipkart report\n",
      "\n",
      "\n",
      "원문 : order curb fake news whatsapp wednesday started rolling limit messages photos videos five chats one time india limit started appear week people india current version whatsapp said globally users forward message chats \n",
      "실제 요약 : whatsapp starts limit chats india \n",
      "예측 요약 :  whatsapp shares video india fake news report\n",
      "\n",
      "\n",
      "원문 : manoj bajpayee retweeted tweet shared journalist took dig akshay kumar pad man release however bajpayee later deleted original tweet read fear getting crushed moved said gave way others pad man release date postponed february avoid clash padmaavat \n",
      "실제 요약 : manoj tweeted pad man postponed deleted post later \n",
      "예측 요약 :  poster akshay kumar starrer pad man\n",
      "\n",
      "\n",
      "원문 : north american bitcoin conference held miami us next week longer accepting bitcoin payments tickets due high fees network congestion organisers said transaction fees bitcoin blockchain exceed certain times day notably last minute tickets event priced \n",
      "실제 요약 : bitcoin conference us stops accepting bitcoin tickets \n",
      "예측 요약 :  us firm stock exchange trading\n",
      "\n",
      "\n",
      "원문 : amazon ceo jeff bezos lost billion slipped one rank world richest list become third richest person billion fortune friday fall net worth came amazon shares fell dip made zara founder amancio ortega reclaim second richest position billion fortune \n",
      "실제 요약 : amazon ceo jeff bezos net worth drops bn one day \n",
      "예측 요약 :  amazon ceo jeff bezos loses bn day worth\n",
      "\n",
      "\n",
      "원문 : congress jd alliance sought stop swearing ceremony bjp bs yeddyurappa karnataka chief minister supreme court agreed hear petition comes karnataka governor vajubhai vala invited bjp emerged single largest party form government yeddyurappa given days prove bjp majority \n",
      "실제 요약 : sc hear cong jd petition taka polls \n",
      "예측 요약 :  cong jd jd candidate moves sc\n",
      "\n",
      "\n",
      "원문 : indian shuttler sen became first men singles player india years win gold medal asian junior badminton championships year old beat world number one become third indian gautam thakkar pv sindhu bag gold medal asian junior championships \n",
      "실제 요약 : india gets first asian jr ship men gold winner yrs \n",
      "예측 요약 :  india st indian win asian games asian games\n",
      "\n",
      "\n",
      "원문 : customs officials saturday arrested ceo plus max operates duty free shop trivandrum airport alleged tax evasion tune crore allegedly used passport details thousands passengers illegally divert foreign liquor black market sale details returns allegedly fabricated cover illegal sales \n",
      "실제 요약 : duty free shop ceo held cr tax evasion \n",
      "예측 요약 :  two arrested delhi airport\n",
      "\n",
      "\n",
      "원문 : south delhi municipal corporation proposed construction six storey parking hold least cars defence colony market solve issue insufficient parking space parking reportedly cost around crore proposed part civic bodies market development project focusing south delhi markets \n",
      "실제 요약 : govt plans parking delhi defence colony \n",
      "예측 요약 :  delhi civic body approves plan buy electric vehicles\n",
      "\n",
      "\n",
      "원문 : based islamic seminary darul uloom issued fatwa muslim women applying nail polish cutting nails calling actions un islamic fatwa stated instead applying nail polish women use mehendi nails last year issued fatwa banning muslim women shaping eyebrows cutting hair \n",
      "실제 요약 : polish un islamic use mehendi instead islamic \n",
      "예측 요약 :  fatwa issues fatwa women women\n",
      "\n",
      "\n",
      "원문 : muslim man forced shave beard gurugram aimim president asaduddin owaisi threatened accused saying convert islam make keep beard even slit throat muslims added police arrested three accused victim filed fir \n",
      "실제 요약 : convert islam owaisi man cut muslim man beard \n",
      "예측 요약 :  man asked apologise calling muslim man\n",
      "\n",
      "\n",
      "원문 : votes polling stations counted pakistan tehreek insaf chief imran khan thursday declared party victory pakistan general elections thank god years struggle prayers answered said khan expected country prime minister also said wants fix pakistan relations india \n",
      "실제 요약 : pti chief imran khan declares victory pakistan elections \n",
      "예측 요약 :  pak army chief imran khan pakistan imran khan\n",
      "\n",
      "\n",
      "원문 : nba star lebron james jumped two opponents single handed slam dunk side cleveland cavaliers facing brooklyn nets nba match james also became third player history score points straight nba seasons ran middle launching jump near free throw spot \n",
      "실제 요약 : nba star lebron jumps players one handed slam \n",
      "예측 요약 :  chris chris takes hat trick\n",
      "\n",
      "\n",
      "원문 : actress sridevi said hurt ss rajamouli interview wherein said sridevi cast baahubali could afford demands added rumours asked crore entire hotel floor ten flight tickets etc sridevi said would survived industry years made demands nnnn \n",
      "실제 요약 : hurt rajamouli said baahubali casting sridevi \n",
      "예측 요약 :  sridevi said things sridevi\n",
      "\n",
      "\n",
      "원문 : indian railways planning launch special tourist train cover locations associated hindu epic ramayana period days passengers stay places visit officials said opting visit sri lanka transferred chennai train flown colombo \n",
      "실제 요약 : railways launch train covering places linked ramayana \n",
      "예측 요약 :  railway train service trains\n",
      "\n",
      "\n",
      "원문 : bombay high court monday granted permission woman abort week foetus detected structural defects court said difficult refuse permission certain given birth child life notably law allow abortion weeks pregnancy \n",
      "실제 요약 : bombay hc allows woman abort week abnormal foetus \n",
      "예측 요약 :  woman gives abortion certificate bombay hc\n",
      "\n",
      "\n",
      "원문 : unidentified man suspected child allegedly tied electricity post beaten death mob west bengal wednesday victim appeared homeless rescued police succumbed injuries hospital police arrested three people basis video incident \n",
      "실제 요약 : homeless man lynched suspicion child lifting bengal \n",
      "예측 요약 :  man beaten death mob suspicion killing\n",
      "\n",
      "\n",
      "원문 : italian goalkeeper buffon announced international retirement alongside two teammates italy failed qualify fifa world cup first time since apart inaugural edition italy participate second time four time world cup champions failed qualify tournament \n",
      "실제 요약 : retires italy miss wc st time yrs \n",
      "예측 요약 :  wwe football team named world cup\n",
      "\n",
      "\n",
      "원문 : online sale purchase firecrackers also come supreme court ban sale purchase firecrackers delhi national capital region till november police said temporary licenses sale firecrackers issued every year delhi police also automatically suspended new order delhi police spokesperson madhur verma said \n",
      "실제 요약 : sc ban also applies online sale firecrackers police \n"
     ]
    },
    {
     "name": "stdout",
     "output_type": "stream",
     "text": [
      "예측 요약 :  auction sale delhi hc sale\n",
      "\n",
      "\n",
      "원문 : actress kalki koechlin said people think feminism negative word according understand feminism either male women better men cause talks women rights added people shy away using word know meaning \n",
      "실제 요약 : people think feminism negative word kalki \n",
      "예측 요약 :  kalki slams kalki remark\n",
      "\n",
      "\n",
      "원문 : around colleges affiliated madhya pradesh medical science university allowed students use mixture hindi english answering questions oral written examinations vice chancellor dr rs sharma said decision taken help students rural areas able answer questions due lack english \n",
      "실제 요약 : mp medical colleges allow use exams \n",
      "예측 요약 :  mp school students get marks\n",
      "\n",
      "\n",
      "원문 : madras high court upheld death penalty year old chennai engineer raped killed seven year old neighbour february last year given death sentence local court february challenged upper court also accused murdering mother fleeing jewellery \n",
      "실제 요약 : death penalty techie raped murdered year old \n",
      "예측 요약 :  hc upholds death penalty raping year old death\n",
      "\n",
      "\n",
      "원문 : european commission wednesday proposed new two year programme take least refugees directly africa middle east turkey move aimed reducing flow illegal migration criminal smuggling networks commission said take refugees increased focus libya egypt sudan ethiopia \n",
      "실제 요약 : eu proposes take refugees africa middle east \n",
      "예측 요약 :  eu parliament calls emergency months\n",
      "\n",
      "\n",
      "원문 : cricketer yuvraj singh trolled teammate shikhar dhawan wearing slippers official kit photoshoot team addressing shikhar jatt ji yuvraj asked shikhar punjabi wear shoes photoshoot shikhar also replied punjabi saying know entire picture would uploaded picture still despite slippers \n",
      "실제 요약 : ji yuvraj shikhar pic slippers \n",
      "예측 요약 :  yuvraj singh shares picture pant dance\n",
      "\n",
      "\n",
      "원문 : singer armaan malik said bollywood actors feature every non film song added singer actually created entire song gets lost somewhere background armaan said bollywood actor non film song might help musician expand fan base \n",
      "실제 요약 : actors feature every non film song armaan \n",
      "예측 요약 :  stars make stars song\n",
      "\n",
      "\n",
      "원문 : govinda thanked rishi kapoor showing concern role jagga jasoos removed added good blood never speaks wrong said expected little director anurag basu want govinda work film ask first place rishi said \n",
      "실제 요약 : govinda thanks rishi showing concern jagga jasoos row \n",
      "예측 요약 :  rishi kapoor look jagga jasoos\n",
      "\n",
      "\n",
      "원문 : kangana ranaut speaking metoo movement said good thing people become absolutely cautious behaviour person think times humiliating anyone violating human rights added kangana said still lot changes made many men called \n",
      "실제 요약 : people become behaviour kangana metoo \n",
      "예측 요약 :  kangana ranaut slams people kangana\n",
      "\n",
      "\n",
      "원문 : nasa saturn rocket carried total astronauts moon largest powerful rocket ever built three stage rocket first complete test november carrying unmanned payload orbit saturn rockets used launches apollo one space station without failures \n",
      "실제 요약 : saturn rocket carried humans moon \n",
      "예측 요약 :  nasa launch rocket rocket launch first rocket\n",
      "\n",
      "\n",
      "원문 : shahid kapoor kiara advani starring recreation prabhudeva song urvashi tamil film later dubbed hindi new urvashi song written sung yo yo honey singh talking song kiara said could ode prabhu sir huge fan \n",
      "실제 요약 : shahid kiara song urvashi \n",
      "예측 요약 :  shahid kapoor sings song song\n",
      "\n",
      "\n",
      "원문 : indian bowler ravichandran ashwin set miss upcoming season indian premier league due sports spinner ruled six eight weeks expected back icc champions trophy summer ashwin plays rising pune supergiant league \n",
      "실제 요약 : ashwin ruled ipl due injury \n",
      "예측 요약 :  ashwin named indian captain ipl\n",
      "\n",
      "\n",
      "원문 : silicon valley based startup makes smart sell announced fire employees sales marketing departments move part startup efforts lower price machine app connected comes along juice packs contain pre cut fruits \n",
      "실제 요약 : smart making startup fires staff \n",
      "예측 요약 :  startup offers crore ola sell\n",
      "\n",
      "\n",
      "원문 : hollywood actor sylvester stallone took instagram wish arnold schwarzenegger day birthday long live beyond always going big man set bar high never surpassed action hero legend wrote two actors last seen together \n",
      "실제 요약 : sylvester wishes arnold schwarzenegger day day \n",
      "예측 요약 :  happy birthday last day actor\n",
      "\n",
      "\n",
      "원문 : gst council allowed sanitary napkins exempted goods services tax gst council member delhi finance minister manish sisodia said council meeting saturday current gst rate sanitary napkins following rollout gst several petitions filed various high courts seeking tax exemption sanitary napkins \n",
      "실제 요약 : sanitary napkins exempted goods services tax \n",
      "예측 요약 :  gst council plans fee sanitary napkins\n",
      "\n",
      "\n",
      "원문 : north south korea friday opened hotline leaders ahead inter korean summit north korean leader kim jong un south korean president moon jae meet southern side zone strip land korean peninsula nations may announce end korean war summit \n",
      "실제 요약 : north korea open hotline leaders ahead summit \n",
      "예측 요약 :  korea korea hold summit korea summit\n",
      "\n",
      "\n",
      "원문 : dating app tinder faced outage wednesday due issue facebook user login permissions social media giant announced would limit third party access user data users used facebook login tinder reported could log back however similar dating apps like bumble affected privacy rules \n",
      "실제 요약 : tinder faces issues facebook privacy changes \n",
      "예측 요약 :  tinder tests dating app face user data\n",
      "\n",
      "\n",
      "원문 : saamana ka saamana shiv sena said prime minister narendra modi finally acknowledged congress vice president serious competitor adding gandhi proved pappu said bjp welcomed rahul temple trip victory pro hindutva forces \n",
      "실제 요약 : pm modi finally sees rahul serious competitor shiv sena \n",
      "예측 요약 :  pm modi modi shiv sena\n",
      "\n",
      "\n",
      "원문 : congress president rahul gandhi appointed six member panel selection candidate upcoming election odisha first time exercise carried party move aims ensure selection process open transparent district block leaders also involved \n",
      "실제 요약 : rahul appoints six member panel select poll candidate \n",
      "예측 요약 :  rahul gandhi wins th term election candidate\n",
      "\n",
      "\n",
      "원문 : indian navy personnel friday sentenced two years prison outraging modesty minor girl vulgar chat messages internet court also imposed fine ins staffer dilip kumar working mumbai accused minor girl online relationship \n",
      "실제 요약 : navy personnel gets yrs prison harassing minor girl \n",
      "예측 요약 :  indian navy officer jailed yrs sexual assault\n",
      "\n",
      "\n",
      "원문 : nawazuddin siddiqui wife siddiqui facebook post support allegations call detail record scam wrote became soft target celebrity nawazuddin accused illegally obtaining call detail record wife calling allegations false baseless added truth soon \n",
      "실제 요약 : nawazuddin soft target scam celebrity wife \n",
      "예측 요약 :  nawazuddin claims man claims ex lawyer\n",
      "\n",
      "\n",
      "원문 : rss leader indresh kumar told muslim students eating meat iftar event delhi jamia university monday kumar invited muslim wing rss also said consume cow milk plant tulsi homes students also protested presence campus \n",
      "실제 요약 : rss leader tells muslims eating \n",
      "예측 요약 :  rss leader calls muslim students namaz\n",
      "\n",
      "\n",
      "원문 : per reports varun dhawan play labourer upcoming film sui dhaaga made india source said film hopes raise awareness indigenous cottage industries india also talks dignity labour film also stars anushka sharma first project varun \n",
      "실제 요약 : varun play labourer sui dhaaga made india report \n",
      "예측 요약 :  varun dhawan starrer sui dhaaga hits theatres\n",
      "\n",
      "\n"
     ]
    }
   ],
   "source": [
    "#인풋 모델 중 랜덤으로 가장 끝의 71개에 대한 요약을 수행해본다.\n",
    "#이를 바탕으로, 예측을 수행하였을 때\n",
    "for i in range(19600, 19671):\n",
    "    print(\"원문 :\", seq2text(encoder_input_test[i]))\n",
    "    print(\"실제 요약 :\", seq2summary(decoder_input_test[i]))\n",
    "    print(\"예측 요약 :\", decode_sequence(encoder_input_test[i].reshape(1, text_max_len)))\n",
    "    print(\"\\n\")"
   ]
  },
  {
   "cell_type": "markdown",
   "metadata": {},
   "source": [
    "![모델예측결과](./PostingPic/모델예측결과.png)                 \n",
    "\n",
    "\n",
    "> 다음과 같이, seq2seq를 활용한 요약 결과가 출력되었음을 알 수 있다."
   ]
  },
  {
   "cell_type": "markdown",
   "metadata": {},
   "source": [
    "## 5. Summa를 이용하여 추출적 요약 해보기                        \n",
    "\n",
    "- 그럼 위의 seq2seq 모델을 활용한 추상적 요약(새로운 문장 생성)과 달리, 원문 중 중요한 단락을 추출하여 요약하는 추출적 요약을 시도해보자.   \n",
    "- Summa라는 패키지를 활용하여, 추출적 요약을 실습해본다."
   ]
  },
  {
   "cell_type": "code",
   "execution_count": 104,
   "metadata": {},
   "outputs": [
    {
     "name": "stdout",
     "output_type": "stream",
     "text": [
      "summarize 임포트 완료\n"
     ]
    }
   ],
   "source": [
    "#패키지 임포트\n",
    "import requests\n",
    "from summa.summarizer import summarize\n",
    "\n",
    "print('summarize 임포트 완료')"
   ]
  },
  {
   "cell_type": "code",
   "execution_count": 99,
   "metadata": {},
   "outputs": [
    {
     "data": {
      "text/plain": [
       "0    saurav kant alumnus upgrad iiit pg program mac...\n",
       "1    kunal shah credit card bill payment platform c...\n",
       "2    new zealand defeated india wickets fourth odi ...\n",
       "3    aegon life iterm insurance plan customers enjo...\n",
       "4    speaking sexual harassment allegations rajkuma...\n",
       "Name: text, dtype: object"
      ]
     },
     "execution_count": 99,
     "metadata": {},
     "output_type": "execute_result"
    }
   ],
   "source": [
    "#동일하게, 추출적 요약에 투입할 data['text'] 컬럼 확인\n",
    "data['text'].head(5) "
   ]
  },
  {
   "cell_type": "code",
   "execution_count": 100,
   "metadata": {},
   "outputs": [
    {
     "name": "stdout",
     "output_type": "stream",
     "text": [
      "별도로 저장한 동일 원문 :  swiss tennis player roger federer clarified joke said almost time retire yet following record th first round win us open federer said jokingly used word retire state could retire order protect first round record us open\n"
     ]
    }
   ],
   "source": [
    "#아까 요약문(headlines)의 최대 길이가 13이었으므로, summa 함수에도 동일 조건을 적용하여 이를 테스트 해 본다.\n",
    "#위의 추상적 요약과 같은 조건에서 수행하기 위해, 동일한 번호대의 컬럼을 따로 저장\n",
    "summa_text=[]\n",
    "\n",
    "for i in range(19600,19671):\n",
    "    summa_text.append(data['text'][i])\n",
    "\n",
    "print('별도로 저장한 동일 원문 : ' , summa_text[0])"
   ]
  },
  {
   "cell_type": "code",
   "execution_count": 101,
   "metadata": {},
   "outputs": [
    {
     "name": "stdout",
     "output_type": "stream",
     "text": [
      "별도 저장하기 전 원문 :  swiss tennis player roger federer clarified joke said almost time retire yet following record th first round win us open federer said jokingly used word retire state could retire order protect first round record us open\n"
     ]
    }
   ],
   "source": [
    "#data['text'][19600]과 위의 동일 원문 첫번째 데이터가 같음을 확인할 수 있다.\n",
    "\n",
    "print('별도 저장하기 전 원문 : ' , data['text'][19600])"
   ]
  },
  {
   "cell_type": "code",
   "execution_count": 102,
   "metadata": {},
   "outputs": [
    {
     "name": "stdout",
     "output_type": "stream",
     "text": [
      "swiss tennis player roger federer clarified joke said almost time retire yet following record th first round win us open federer said jokingly used word retire state could retire order protect first round record us open\n"
     ]
    }
   ],
   "source": [
    "print(summa_text[0])"
   ]
  },
  {
   "cell_type": "code",
   "execution_count": 113,
   "metadata": {},
   "outputs": [
    {
     "name": "stdout",
     "output_type": "stream",
     "text": [
      "Summary 0: \n",
      "\n",
      "Summary 1: \n",
      "\n",
      "Summary 2: \n",
      "\n",
      "Summary 3: \n",
      "\n",
      "Summary 4: \n",
      "\n",
      "Summary 5: \n",
      "\n",
      "Summary 6: \n",
      "\n",
      "Summary 7: \n",
      "\n",
      "Summary 8: \n",
      "\n",
      "Summary 9: \n",
      "\n",
      "Summary 10: \n",
      "\n",
      "Summary 11: \n",
      "\n",
      "Summary 12: \n",
      "\n",
      "Summary 13: \n",
      "\n",
      "Summary 14: \n",
      "\n",
      "Summary 15: \n",
      "\n",
      "Summary 16: \n",
      "\n",
      "Summary 17: \n",
      "\n",
      "Summary 18: \n",
      "\n",
      "Summary 19: \n",
      "\n",
      "Summary 20: \n",
      "\n",
      "Summary 21: \n",
      "\n",
      "Summary 22: \n",
      "\n",
      "Summary 23: \n",
      "\n",
      "Summary 24: \n",
      "\n",
      "Summary 25: \n",
      "\n",
      "Summary 26: \n",
      "\n",
      "Summary 27: \n",
      "\n",
      "Summary 28: \n",
      "\n",
      "Summary 29: \n",
      "\n",
      "Summary 30: \n",
      "\n",
      "Summary 31: \n",
      "\n",
      "Summary 32: \n",
      "\n",
      "Summary 33: \n",
      "\n",
      "Summary 34: \n",
      "\n",
      "Summary 35: \n",
      "\n",
      "Summary 36: \n",
      "\n",
      "Summary 37: \n",
      "\n",
      "Summary 38: \n",
      "\n",
      "Summary 39: \n",
      "\n",
      "Summary 40: \n",
      "\n",
      "Summary 41: \n",
      "\n",
      "Summary 42: \n",
      "\n",
      "Summary 43: \n",
      "\n",
      "Summary 44: \n",
      "\n",
      "Summary 45: \n",
      "\n",
      "Summary 46: \n",
      "\n",
      "Summary 47: \n",
      "\n",
      "Summary 48: \n",
      "\n",
      "Summary 49: \n",
      "\n",
      "Summary 50: \n",
      "\n",
      "Summary 51: \n",
      "\n",
      "Summary 52: \n",
      "\n",
      "Summary 53: \n",
      "\n",
      "Summary 54: \n",
      "\n",
      "Summary 55: \n",
      "\n",
      "Summary 56: \n",
      "\n",
      "Summary 57: \n",
      "\n",
      "Summary 58: \n",
      "\n",
      "Summary 59: \n",
      "\n",
      "Summary 60: \n",
      "\n",
      "Summary 61: \n",
      "\n",
      "Summary 62: \n",
      "\n",
      "Summary 63: \n",
      "\n",
      "Summary 64: \n",
      "\n",
      "Summary 65: \n",
      "\n",
      "Summary 66: \n",
      "\n",
      "Summary 67: \n",
      "\n",
      "Summary 68: \n",
      "\n",
      "Summary 69: \n",
      "\n",
      "Summary 70: \n",
      "\n"
     ]
    }
   ],
   "source": [
    "#summa_text의 모든 요소들을 summarize적용\n",
    "#단어 수로 요약문 크기 조절(위의 추상적 요약 시 적용한 max_len과 같도록)\n",
    "str_text=[]\n",
    "\n",
    "for i in range(0,71):\n",
    "    print('Summary %s: '%i)\n",
    "    str_text = \"\".join(summa_text[i])\n",
    "    print(summarize(str_text[i], words=13))"
   ]
  },
  {
   "cell_type": "code",
   "execution_count": 114,
   "metadata": {},
   "outputs": [],
   "source": [
    "str_text = \"\".join(summa_text[0])"
   ]
  },
  {
   "cell_type": "code",
   "execution_count": 120,
   "metadata": {},
   "outputs": [
    {
     "name": "stdout",
     "output_type": "stream",
     "text": [
      "\n"
     ]
    }
   ],
   "source": [
    "print(summarize(str_text, ratio=0.005))"
   ]
  },
  {
   "cell_type": "code",
   "execution_count": 117,
   "metadata": {},
   "outputs": [
    {
     "name": "stdout",
     "output_type": "stream",
     "text": [
      "swiss tennis player roger federer clarified joke said almost time retire yet following record th first round win us open federer said jokingly used word retire state could retire order protect first round record us open\n"
     ]
    }
   ],
   "source": [
    "print(str_text)"
   ]
  },
  {
   "cell_type": "code",
   "execution_count": null,
   "metadata": {},
   "outputs": [],
   "source": []
  },
  {
   "cell_type": "code",
   "execution_count": null,
   "metadata": {},
   "outputs": [],
   "source": []
  },
  {
   "cell_type": "code",
   "execution_count": null,
   "metadata": {},
   "outputs": [],
   "source": []
  },
  {
   "cell_type": "code",
   "execution_count": null,
   "metadata": {},
   "outputs": [],
   "source": []
  },
  {
   "cell_type": "code",
   "execution_count": null,
   "metadata": {},
   "outputs": [],
   "source": []
  }
 ],
 "metadata": {
  "kernelspec": {
   "display_name": "aiffel",
   "language": "python",
   "name": "aiffel"
  },
  "language_info": {
   "codemirror_mode": {
    "name": "ipython",
    "version": 3
   },
   "file_extension": ".py",
   "mimetype": "text/x-python",
   "name": "python",
   "nbconvert_exporter": "python",
   "pygments_lexer": "ipython3",
   "version": "3.7.9"
  }
 },
 "nbformat": 4,
 "nbformat_minor": 4
}
